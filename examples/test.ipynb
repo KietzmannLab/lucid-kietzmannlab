{
 "cells": [
  {
   "cell_type": "code",
   "execution_count": 1,
   "metadata": {},
   "outputs": [],
   "source": [
    "import tensorflow.compat.v1 as tf\n",
    "import lucid_kietzmannlab.modelzoo.vision_models as models\n",
    "import matplotlib.pyplot as plt\n",
    "from tqdm import tqdm\n",
    "import lucid_kietzmannlab.modelzoo.vision_models as models\n",
    "import lucid_kietzmannlab.optvis.objectives as objectives\n",
    "import lucid_kietzmannlab.optvis.render as render\n",
    "from IPython.display import clear_output\n",
    "from ipywidgets import interact, Dropdown, IntSlider"
   ]
  },
  {
   "cell_type": "code",
   "execution_count": 2,
   "metadata": {},
   "outputs": [
    {
     "name": "stderr",
     "output_type": "stream",
     "text": [
      "/Users/vkapoor/miniconda3/envs/lucidenv/lib/python3.12/site-packages/tensorflow/python/keras/engine/base_layer_v1.py:1694: UserWarning: `layer.apply` is deprecated and will be removed in a future version. Please use `layer.__call__` method instead.\n",
      "  warnings.warn('`layer.apply` is deprecated and '\n",
      "2024-06-07 18:05:14.825094: I tensorflow/compiler/mlir/mlir_graph_optimization_pass.cc:388] MLIR V1 optimization pass is not enabled\n"
     ]
    },
    {
     "name": "stdout",
     "output_type": "stream",
     "text": [
      "INFO:tensorflow:Restoring parameters from /Users/vkapoor/Downloads/training_seed_05/model.ckpt_epoch89\n",
      "Model loaded from: /Users/vkapoor/Downloads/training_seed_05/model.ckpt_epoch89\n"
     ]
    }
   ],
   "source": [
    "model_checkpoint_dir = \"/Users/vkapoor/Downloads/training_seed_05\"\n",
    "model_checkpoint = \"model.ckpt_epoch89\"\n",
    "model, graph, sess, logits, activations, weights, layer_shape_dict = models.load_ecoset_model_seeds(model_checkpoint_dir, model_checkpoint)\n",
    "\n"
   ]
  },
  {
   "cell_type": "code",
   "execution_count": 3,
   "metadata": {},
   "outputs": [
    {
     "name": "stdout",
     "output_type": "stream",
     "text": [
      "Layer: alexnet_v2/conv1/Conv2D, Shape: (None, 54, 54, 64)\n",
      "Layer: alexnet_v2/conv1/BiasAdd, Shape: (None, 54, 54, 64)\n",
      "Layer: alexnet_v2/conv1/Relu, Shape: (None, 54, 54, 64)\n",
      "Layer: alexnet_v2/pool1/MaxPool, Shape: (None, 26, 26, 64)\n",
      "Layer: alexnet_v2/conv2/Conv2D, Shape: (None, 26, 26, 192)\n",
      "Layer: alexnet_v2/conv2/BiasAdd, Shape: (None, 26, 26, 192)\n",
      "Layer: alexnet_v2/conv2/Relu, Shape: (None, 26, 26, 192)\n",
      "Layer: alexnet_v2/pool2/MaxPool, Shape: (None, 12, 12, 192)\n",
      "Layer: alexnet_v2/conv3/Conv2D, Shape: (None, 12, 12, 384)\n",
      "Layer: alexnet_v2/conv3/BiasAdd, Shape: (None, 12, 12, 384)\n",
      "Layer: alexnet_v2/conv3/Relu, Shape: (None, 12, 12, 384)\n",
      "Layer: alexnet_v2/conv4/Conv2D, Shape: (None, 12, 12, 384)\n",
      "Layer: alexnet_v2/conv4/BiasAdd, Shape: (None, 12, 12, 384)\n",
      "Layer: alexnet_v2/conv4/Relu, Shape: (None, 12, 12, 384)\n",
      "Layer: alexnet_v2/conv5/Conv2D, Shape: (None, 12, 12, 256)\n",
      "Layer: alexnet_v2/conv5/BiasAdd, Shape: (None, 12, 12, 256)\n",
      "Layer: alexnet_v2/conv5/Relu, Shape: (None, 12, 12, 256)\n",
      "Layer: alexnet_v2/pool5/MaxPool, Shape: (None, 5, 5, 256)\n",
      "Layer: alexnet_v2/fc6/Conv2D, Shape: (None, 1, 1, 4096)\n",
      "Layer: alexnet_v2/fc6/BiasAdd, Shape: (None, 1, 1, 4096)\n",
      "Layer: alexnet_v2/fc6/Relu, Shape: (None, 1, 1, 4096)\n",
      "Layer: alexnet_v2/dropout6/Identity, Shape: (None, 1, 1, 4096)\n",
      "Layer: alexnet_v2/fc7/Conv2D, Shape: (None, 1, 1, 4096)\n",
      "Layer: alexnet_v2/fc7/BiasAdd, Shape: (None, 1, 1, 4096)\n",
      "Layer: alexnet_v2/fc7/Relu, Shape: (None, 1, 1, 4096)\n",
      "Layer: alexnet_v2/dropout7/Identity, Shape: (None, 1, 1, 4096)\n",
      "Layer: alexnet_v2/fc8/Conv2D, Shape: (None, 1, 1, 1000)\n",
      "Layer: alexnet_v2/fc8/BiasAdd, Shape: (None, 1, 1, 1000)\n",
      "Layer: alexnet_v2/fc8/squeezed, Shape: (None, 1000)\n",
      "Layer: save/RestoreV2, Shape: <unknown>\n",
      "Layer: save/Identity, Shape: <unknown>\n",
      "Layer: save/Identity_1, Shape: <unknown>\n",
      "Layer: save/Identity_2, Shape: <unknown>\n",
      "Layer: save/Identity_3, Shape: <unknown>\n",
      "Layer: save/Identity_4, Shape: <unknown>\n",
      "Layer: save/Identity_5, Shape: <unknown>\n",
      "Layer: save/Identity_6, Shape: <unknown>\n",
      "Layer: save/Identity_7, Shape: <unknown>\n",
      "Layer: save/Identity_8, Shape: <unknown>\n",
      "Layer: save/Identity_9, Shape: <unknown>\n",
      "Layer: save/Identity_10, Shape: <unknown>\n",
      "Layer: save/Identity_11, Shape: <unknown>\n",
      "Layer: save/Identity_12, Shape: <unknown>\n",
      "Layer: save/Identity_13, Shape: <unknown>\n",
      "Layer: save/Identity_14, Shape: <unknown>\n",
      "Layer: save/Identity_15, Shape: <unknown>\n"
     ]
    }
   ],
   "source": [
    "for layer, shape in layer_shape_dict.items():\n",
    "    print(f'Layer: {layer}, Shape: {shape}')"
   ]
  },
  {
   "cell_type": "code",
   "execution_count": 4,
   "metadata": {},
   "outputs": [
    {
     "name": "stdout",
     "output_type": "stream",
     "text": [
      "alexnet_v2/conv1/Relu\n",
      "(None, 54, 54, 64)\n"
     ]
    }
   ],
   "source": [
    "C = lambda neuron: objectives.channel(*neuron)    \n",
    "def visualize(layer_name, channel):\n",
    "    # Check if the layer exists in the shape dictionary\n",
    "    if layer_name in layer_shape_dict:\n",
    "        # Check if the selected channel is within bounds\n",
    "        print(layer_shape_dict[layer_name])\n",
    "        max_channel = layer_shape_dict[layer_name][-1] - 1\n",
    "        if 0 <= channel <= max_channel:\n",
    "            clear_output(wait=True)\n",
    "            # Render visualization for the selected layer and channel\n",
    "            #try:\n",
    "            _ = render.render_vis(model, C((layer_name, channel)))\n",
    "            #except Exception:\n",
    "            #    print('No gradients for this layer')   \n",
    "\n",
    "def visualize_all():\n",
    "    # Check if the layer exists in the shape dictionary\n",
    "    layer_name = current_dropdown_value({'new': layer_dropdown.value})\n",
    "    print(layer_name)\n",
    "    if layer_name in layer_shape_dict:\n",
    "            # Check if the selected channel is within bounds\n",
    "            try:\n",
    "               image_channel = {} \n",
    "               for channel in tqdm(range(channel_slider.max)):    \n",
    "                  images = render.render_vis(model, C((layer_name, channel)), verbose = False)\n",
    "                  image_channel[channel] = images \n",
    "            except Exception:\n",
    "                print('No gradients for this layer')    \n",
    "    return image_channel   \n",
    "\n",
    "\n",
    "# Create dropdown menu for layer selection\n",
    "layer_dropdown = Dropdown(options=list(layer_shape_dict.keys()), description='Layer:')\n",
    "\n",
    "# Create slider for channel selection\n",
    "channel_slider = IntSlider(min=0, max=0, description='Channel:')\n",
    "        \n",
    "        \n",
    "def update_channel_slider(change):\n",
    "    layer_name = change.new\n",
    "    if layer_name in layer_shape_dict:\n",
    "        print(layer_name)\n",
    "        print(layer_shape_dict[layer_name])\n",
    "        max_channel = layer_shape_dict[layer_name][-1] - 1\n",
    "        channel_slider.max = max_channel\n",
    "        \n",
    "        \n",
    "def current_slider_value(*args):\n",
    "    return channel_slider.value\n",
    "\n",
    "\n",
    "def current_dropdown_value(change):\n",
    "    return change['new']\n",
    "\n",
    "\n",
    "channel_slider.observe(current_slider_value, names='value')\n",
    "layer_dropdown.observe(current_dropdown_value, names='value')\n",
    "          "
   ]
  },
  {
   "cell_type": "code",
   "execution_count": 5,
   "metadata": {},
   "outputs": [
    {
     "data": {
      "application/vnd.jupyter.widget-view+json": {
       "model_id": "6855bbcbea7c4603a8749f0ff42f65b7",
       "version_major": 2,
       "version_minor": 0
      },
      "text/plain": [
       "interactive(children=(Dropdown(description='Layer:', options=('alexnet_v2/conv1/Conv2D', 'alexnet_v2/conv1/Bia…"
      ]
     },
     "metadata": {},
     "output_type": "display_data"
    },
    {
     "data": {
      "text/plain": [
       "<function __main__.visualize(layer_name, channel)>"
      ]
     },
     "execution_count": 5,
     "metadata": {},
     "output_type": "execute_result"
    },
    {
     "name": "stdout",
     "output_type": "stream",
     "text": [
      "alexnet_v2/conv1/Relu\n",
      "(None, 54, 54, 64)\n"
     ]
    }
   ],
   "source": [
    "layer_dropdown.observe(update_channel_slider, names='value')\n",
    "\n",
    "# Create an interactive visualization\n",
    "interact(visualize, layer_name=layer_dropdown, channel=channel_slider)     \n"
   ]
  },
  {
   "cell_type": "code",
   "execution_count": 6,
   "metadata": {},
   "outputs": [
    {
     "data": {
      "text/plain": [
       "dict_keys(['alexnet_v2/conv1/Conv2D', 'alexnet_v2/conv1/BiasAdd', 'alexnet_v2/conv1/Relu', 'alexnet_v2/pool1/MaxPool', 'alexnet_v2/conv2/Conv2D', 'alexnet_v2/conv2/BiasAdd', 'alexnet_v2/conv2/Relu', 'alexnet_v2/pool2/MaxPool', 'alexnet_v2/conv3/Conv2D', 'alexnet_v2/conv3/BiasAdd', 'alexnet_v2/conv3/Relu', 'alexnet_v2/conv4/Conv2D', 'alexnet_v2/conv4/BiasAdd', 'alexnet_v2/conv4/Relu', 'alexnet_v2/conv5/Conv2D', 'alexnet_v2/conv5/BiasAdd', 'alexnet_v2/conv5/Relu', 'alexnet_v2/pool5/MaxPool', 'alexnet_v2/fc6/Conv2D', 'alexnet_v2/fc6/BiasAdd', 'alexnet_v2/fc6/Relu', 'alexnet_v2/dropout6/Identity', 'alexnet_v2/fc7/Conv2D', 'alexnet_v2/fc7/BiasAdd', 'alexnet_v2/fc7/Relu', 'alexnet_v2/dropout7/Identity', 'alexnet_v2/fc8/Conv2D', 'alexnet_v2/fc8/BiasAdd', 'alexnet_v2/fc8/squeezed', 'save/RestoreV2', 'save/Identity', 'save/Identity_1', 'save/Identity_2', 'save/Identity_3', 'save/Identity_4', 'save/Identity_5', 'save/Identity_6', 'save/Identity_7', 'save/Identity_8', 'save/Identity_9', 'save/Identity_10', 'save/Identity_11', 'save/Identity_12', 'save/Identity_13', 'save/Identity_14', 'save/Identity_15'])"
      ]
     },
     "execution_count": 6,
     "metadata": {},
     "output_type": "execute_result"
    }
   ],
   "source": [
    "layer_shape_dict.keys()"
   ]
  },
  {
   "cell_type": "code",
   "execution_count": null,
   "metadata": {},
   "outputs": [],
   "source": [
    "lname = layer_shape_dict['alexnet_v2/conv1/weights/Assign']\n",
    "lname.shape"
   ]
  },
  {
   "cell_type": "code",
   "execution_count": null,
   "metadata": {},
   "outputs": [],
   "source": []
  }
 ],
 "metadata": {
  "kernelspec": {
   "display_name": "lucidenv",
   "language": "python",
   "name": "python3"
  },
  "language_info": {
   "codemirror_mode": {
    "name": "ipython",
    "version": 3
   },
   "file_extension": ".py",
   "mimetype": "text/x-python",
   "name": "python",
   "nbconvert_exporter": "python",
   "pygments_lexer": "ipython3",
   "version": "3.12.3"
  }
 },
 "nbformat": 4,
 "nbformat_minor": 2
}
