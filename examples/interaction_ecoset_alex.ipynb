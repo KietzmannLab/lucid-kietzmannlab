{
 "cells": [
  {
   "cell_type": "code",
   "execution_count": 9,
   "metadata": {},
   "outputs": [],
   "source": [
    "import tensorflow.compat.v1 as tf\n",
    "import lucid_kietzmannlab.modelzoo.vision_models as models\n",
    "import matplotlib.pyplot as plt\n",
    "from tqdm import tqdm\n",
    "import lucid_kietzmannlab.optvis.objectives as objectives\n",
    "import lucid_kietzmannlab.optvis.render as render\n",
    "from ipywidgets import interact, Dropdown, IntSlider\n",
    "from IPython.display import clear_output\n",
    "from lucid_kietzmannlab.modelzoo.vision_models import get_layer_names_tensors"
   ]
  },
  {
   "cell_type": "code",
   "execution_count": 3,
   "metadata": {},
   "outputs": [
    {
     "name": "stdout",
     "output_type": "stream",
     "text": [
      "INFO:tensorflow:Restoring parameters from /Users/vkapoor/Downloads/training_seed_05/model.ckpt_epoch89\n",
      "Model loaded from: /Users/vkapoor/Downloads/training_seed_05\n",
      "(Layer (belonging to EcoAlexModel) <tower_0/alexnet_v2/conv1/Conv2D: 64> ([{'conv'}]), Layer (belonging to EcoAlexModel) <tower_0/alexnet_v2/conv2/Conv2D: 192> ([{'conv'}]), Layer (belonging to EcoAlexModel) <tower_0/alexnet_v2/conv3/Conv2D: 384> ([{'conv'}]), Layer (belonging to EcoAlexModel) <tower_0/alexnet_v2/conv4/Conv2D: 384> ([{'conv'}]), Layer (belonging to EcoAlexModel) <tower_0/alexnet_v2/conv5/Conv2D: 256> ([{'conv'}]), Layer (belonging to EcoAlexModel) <tower_0/alexnet_v2/fc6/Conv2D: 4096> ([{'dense'}]), Layer (belonging to EcoAlexModel) <tower_0/alexnet_v2/fc7/Conv2D: 4096> ([{'dense'}]), Layer (belonging to EcoAlexModel) <tower_0/alexnet_v2/fc8/Conv2D: 565> ([{'dense'}]), Layer (belonging to EcoAlexModel) <tower_1/alexnet_v2/conv1/Conv2D: 64> ([{'conv'}]), Layer (belonging to EcoAlexModel) <tower_1/alexnet_v2/conv2/Conv2D: 192> ([{'conv'}]), Layer (belonging to EcoAlexModel) <tower_1/alexnet_v2/conv3/Conv2D: 384> ([{'conv'}]), Layer (belonging to EcoAlexModel) <tower_1/alexnet_v2/conv4/Conv2D: 384> ([{'conv'}]), Layer (belonging to EcoAlexModel) <tower_1/alexnet_v2/conv5/Conv2D: 256> ([{'conv'}]), Layer (belonging to EcoAlexModel) <tower_1/alexnet_v2/fc6/Conv2D: 4096> ([{'dense'}]), Layer (belonging to EcoAlexModel) <tower_1/alexnet_v2/fc7/Conv2D: 4096> ([{'dense'}]), Layer (belonging to EcoAlexModel) <tower_1/alexnet_v2/fc8/Conv2D: 565> ([{'dense'}]), Layer (belonging to EcoAlexModel) <tower_2/alexnet_v2/conv1/Conv2D: 64> ([{'conv'}]), Layer (belonging to EcoAlexModel) <tower_2/alexnet_v2/conv2/Conv2D: 192> ([{'conv'}]), Layer (belonging to EcoAlexModel) <tower_2/alexnet_v2/conv3/Conv2D: 384> ([{'conv'}]), Layer (belonging to EcoAlexModel) <tower_2/alexnet_v2/conv4/Conv2D: 384> ([{'conv'}]), Layer (belonging to EcoAlexModel) <tower_2/alexnet_v2/conv5/Conv2D: 256> ([{'conv'}]), Layer (belonging to EcoAlexModel) <tower_2/alexnet_v2/fc6/Conv2D: 4096> ([{'dense'}]), Layer (belonging to EcoAlexModel) <tower_2/alexnet_v2/fc7/Conv2D: 4096> ([{'dense'}]), Layer (belonging to EcoAlexModel) <tower_2/alexnet_v2/fc8/Conv2D: 565> ([{'dense'}]), Layer (belonging to EcoAlexModel) <tower_3/alexnet_v2/conv1/Conv2D: 64> ([{'conv'}]), Layer (belonging to EcoAlexModel) <tower_3/alexnet_v2/conv2/Conv2D: 192> ([{'conv'}]), Layer (belonging to EcoAlexModel) <tower_3/alexnet_v2/conv3/Conv2D: 384> ([{'conv'}]), Layer (belonging to EcoAlexModel) <tower_3/alexnet_v2/conv4/Conv2D: 384> ([{'conv'}]), Layer (belonging to EcoAlexModel) <tower_3/alexnet_v2/conv5/Conv2D: 256> ([{'conv'}]), Layer (belonging to EcoAlexModel) <tower_3/alexnet_v2/fc6/Conv2D: 4096> ([{'dense'}]), Layer (belonging to EcoAlexModel) <tower_3/alexnet_v2/fc7/Conv2D: 4096> ([{'dense'}]), Layer (belonging to EcoAlexModel) <tower_3/alexnet_v2/fc8/Conv2D: 565> ([{'dense'}]))\n"
     ]
    }
   ],
   "source": [
    "model_checkpoint_dir = \"/Users/vkapoor/Downloads/training_seed_05\"\n",
    "model_checkpoint = \"model.ckpt_epoch89\"\n",
    "model = models.EcoAlexModel(model_checkpoint_dir, model_checkpoint)\n",
    "model.load_model_layers()\n",
    "get_layer_names_tensors(model)\n",
    "\n"
   ]
  },
  {
   "cell_type": "code",
   "execution_count": 7,
   "metadata": {},
   "outputs": [],
   "source": [
    "layer_name_list = [layer_info[\"name\"] for layer_info in model.layers]\n",
    "\n",
    "with tf.Graph().as_default() as graph:\n",
    "    # Import the model\n",
    "    tf.import_graph_def(model.graph_def, name='')\n",
    "\n",
    "    # Get the shape of each tensor\n",
    "    layer_shape_dict = {}\n",
    "    with tf.compat.v1.Session() as sess:\n",
    "        for layer_name in layer_name_list:\n",
    "            try:\n",
    "                tensor_shape = sess.graph.get_tensor_by_name(f'{layer_name}:0').shape\n",
    "                \n",
    "                if tensor_shape != ():\n",
    "                  \n",
    "                    if tensor_shape[0] is None:\n",
    "                       \n",
    "                       layer_shape_dict[layer_name] = tensor_shape\n",
    "            except KeyError:\n",
    "                # Handle the case where the tensor is not found\n",
    "                layer_shape_dict[layer_name] = None\n",
    "C = lambda neuron: objectives.channel(*neuron)    \n",
    "def visualize(layer_name, channel):\n",
    "    # Check if the layer exists in the shape dictionary\n",
    "    if layer_name in layer_shape_dict:\n",
    "        # Check if the selected channel is within bounds\n",
    "        print(layer_shape_dict[layer_name])\n",
    "        max_channel = layer_shape_dict[layer_name][-1] - 1\n",
    "        if 0 <= channel <= max_channel:\n",
    "            clear_output(wait=True)\n",
    "            # Render visualization for the selected layer and channel\n",
    "            #try:\n",
    "            _ = render.render_vis(model, C((layer_name, channel)))\n",
    "            #except Exception:\n",
    "            #    print('No gradients for this layer')   \n",
    "\n",
    "def visualize_all():\n",
    "    # Check if the layer exists in the shape dictionary\n",
    "    layer_name = current_dropdown_value({'new': layer_dropdown.value})\n",
    "    print(layer_name)\n",
    "    if layer_name in layer_shape_dict:\n",
    "            # Check if the selected channel is within bounds\n",
    "            try:\n",
    "               image_channel = {} \n",
    "               for channel in tqdm(range(channel_slider.max)):    \n",
    "                  images = render.render_vis(model, C((layer_name, channel)), verbose = False)\n",
    "                  image_channel[channel] = images \n",
    "            except Exception:\n",
    "                print('No gradients for this layer')    \n",
    "    return image_channel            \n",
    "                              \n",
    "def plot_images(image_channel):\n",
    "    channels = list(image_channel.keys())\n",
    "    for i in range(0, len(channels), 3):\n",
    "        fig, axs = plt.subplots(1, 3, figsize=(15, 5))  \n",
    "        for j in range(3):\n",
    "            channel_index = i + j\n",
    "            if channel_index < len(channels):\n",
    "                channel = channels[channel_index]\n",
    "                images = image_channel[channel]\n",
    "                try:\n",
    "                    axs[j].imshow(images[0][0,:])  \n",
    "                    axs[j].set_title(f\"Channel {channel}\")\n",
    "                    axs[j].axis('off')\n",
    "                except Exception as e:\n",
    "                    print(f\"Error plotting channel {channel}: {e}\")\n",
    "                    axs[j].axis('off')\n",
    "                    axs[j].text(0.5, 0.5, 'Error', ha='center', va='center')\n",
    "            else:\n",
    "                axs[j].axis('off')  \n",
    "        plt.tight_layout()\n",
    "        plt.show()\n",
    "        \n",
    "# Create dropdown menu for layer selection\n",
    "layer_dropdown = Dropdown(options=list(layer_shape_dict.keys()), description='Layer:')\n",
    "\n",
    "# Create slider for channel selection\n",
    "channel_slider = IntSlider(min=0, max=0, description='Channel:')\n",
    "        \n",
    "        \n",
    "def update_channel_slider(change):\n",
    "    layer_name = change.new\n",
    "    if layer_name in layer_shape_dict:\n",
    "        \n",
    "        max_channel = layer_shape_dict[layer_name][-1] - 1\n",
    "        channel_slider.max = max_channel\n",
    "        \n",
    "        \n",
    "def current_slider_value(*args):\n",
    "    return channel_slider.value\n",
    "\n",
    "\n",
    "def current_dropdown_value(change):\n",
    "    return change['new']\n",
    "\n",
    "\n",
    "channel_slider.observe(current_slider_value, names='value')\n",
    "layer_dropdown.observe(current_dropdown_value, names='value')\n",
    "        \n",
    "\n",
    "       "
   ]
  },
  {
   "cell_type": "code",
   "execution_count": 10,
   "metadata": {},
   "outputs": [
    {
     "data": {
      "application/vnd.jupyter.widget-view+json": {
       "model_id": "f631b9be5ad143558ba8caca9954bf63",
       "version_major": 2,
       "version_minor": 0
      },
      "text/plain": [
       "interactive(children=(Dropdown(description='Layer:', options=('tower_0/alexnet_v2/conv1/Conv2D', 'tower_0/alex…"
      ]
     },
     "metadata": {},
     "output_type": "display_data"
    },
    {
     "data": {
      "text/plain": [
       "<function __main__.visualize(layer_name, channel)>"
      ]
     },
     "execution_count": 10,
     "metadata": {},
     "output_type": "execute_result"
    }
   ],
   "source": [
    "layer_dropdown.observe(update_channel_slider, names='value')\n",
    "\n",
    "# Create an interactive visualization\n",
    "interact(visualize, layer_name=layer_dropdown, channel=channel_slider)     "
   ]
  },
  {
   "cell_type": "code",
   "execution_count": null,
   "metadata": {},
   "outputs": [],
   "source": [
    "image_channel = visualize_all()"
   ]
  },
  {
   "cell_type": "code",
   "execution_count": null,
   "metadata": {},
   "outputs": [],
   "source": [
    "\n",
    "if image_channel:\n",
    "    plot_images(image_channel)   "
   ]
  }
 ],
 "metadata": {
  "kernelspec": {
   "display_name": "lucidenv",
   "language": "python",
   "name": "python3"
  },
  "language_info": {
   "codemirror_mode": {
    "name": "ipython",
    "version": 3
   },
   "file_extension": ".py",
   "mimetype": "text/x-python",
   "name": "python",
   "nbconvert_exporter": "python",
   "pygments_lexer": "ipython3",
   "version": "3.12.3"
  }
 },
 "nbformat": 4,
 "nbformat_minor": 2
}
