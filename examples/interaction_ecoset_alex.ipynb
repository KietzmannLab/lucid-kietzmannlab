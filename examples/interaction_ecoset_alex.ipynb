{
 "cells": [
  {
   "cell_type": "code",
   "execution_count": 1,
   "metadata": {},
   "outputs": [
    {
     "name": "stdout",
     "output_type": "stream",
     "text": [
      "WARNING:tensorflow:From /Users/vkapoor/miniconda3/envs/lucidenv/lib/python3.12/site-packages/tensorflow/python/compat/v2_compat.py:98: disable_resource_variables (from tensorflow.python.ops.resource_variables_toggle) is deprecated and will be removed in a future version.\n",
      "Instructions for updating:\n",
      "non-resource variables are not supported in the long term\n"
     ]
    }
   ],
   "source": [
    "import tensorflow.compat.v1 as tf\n",
    "import lucid_kietzmannlab.modelzoo.vision_models as models\n",
    "import matplotlib.pyplot as plt\n",
    "from tqdm import tqdm\n",
    "import lucid_kietzmannlab.optvis.objectives as objectives\n",
    "import lucid_kietzmannlab.optvis.render as render\n",
    "from ipywidgets import interact, Dropdown, IntSlider\n",
    "tf.disable_v2_behavior()\n"
   ]
  },
  {
   "cell_type": "code",
   "execution_count": 2,
   "metadata": {},
   "outputs": [
    {
     "name": "stdout",
     "output_type": "stream",
     "text": [
      "INFO:tensorflow:Restoring parameters from /Users/vkapoor/Downloads/training_seed_06/model.ckpt_epoch89\n"
     ]
    },
    {
     "name": "stderr",
     "output_type": "stream",
     "text": [
      "2024-06-08 13:30:21.331042: I tensorflow/compiler/mlir/mlir_graph_optimization_pass.cc:388] MLIR V1 optimization pass is not enabled\n"
     ]
    },
    {
     "name": "stdout",
     "output_type": "stream",
     "text": [
      "Model loaded from: /Users/vkapoor/Downloads/training_seed_06\n",
      "Layer: tower_0/alexnet_v2/conv1/Conv2D, Shape: (32, 64, 54, 54)\n",
      "Layer: tower_0/alexnet_v2/conv2/Conv2D, Shape: (32, 192, 26, 26)\n",
      "Layer: tower_0/alexnet_v2/conv3/Conv2D, Shape: (32, 384, 12, 12)\n",
      "Layer: tower_0/alexnet_v2/conv4/Conv2D, Shape: (32, 384, 12, 12)\n",
      "Layer: tower_0/alexnet_v2/conv5/Conv2D, Shape: (32, 256, 12, 12)\n",
      "Layer: tower_0/alexnet_v2/fc6/Conv2D, Shape: (32, 4096, 1, 1)\n",
      "Layer: tower_0/alexnet_v2/fc7/Conv2D, Shape: (32, 4096, 1, 1)\n",
      "Layer: tower_0/alexnet_v2/fc8/Conv2D, Shape: (32, 565, 1, 1)\n"
     ]
    }
   ],
   "source": [
    "model_checkpoint_dir = \"/Users/vkapoor/Downloads/training_seed_06\"\n",
    "model_checkpoint = \"model.ckpt_epoch89\"\n",
    "model, graph,  layer_shape_dict = models.load_ecoset_model_seeds(model_checkpoint_dir, model_checkpoint)\n"
   ]
  },
  {
   "cell_type": "code",
   "execution_count": 3,
   "metadata": {},
   "outputs": [],
   "source": [
    "C = lambda neuron: objectives.channel(*neuron)    \n",
    "def visualize(layer_name, channel):\n",
    "    # Check if the layer exists in the shape dictionary\n",
    "    if layer_name in layer_shape_dict:\n",
    "        # Check if the selected channel is within bounds\n",
    "        print(layer_shape_dict[layer_name])\n",
    "        max_channel = layer_shape_dict[layer_name][-1] - 1\n",
    "        if 0 <= channel <= max_channel:\n",
    "            #clear_output(wait=True)\n",
    "            # Render visualization for the selected layer and channel\n",
    "            #try:\n",
    "            _ = render.render_vis(model, C((layer_name, channel)), scope='')\n",
    "            #except Exception:\n",
    "            #    print('No gradients for this layer')   \n",
    "\n",
    "def visualize_all():\n",
    "    # Check if the layer exists in the shape dictionary\n",
    "    layer_name = current_dropdown_value({'new': layer_dropdown.value})\n",
    "    print(layer_name)\n",
    "    if layer_name in layer_shape_dict:\n",
    "            # Check if the selected channel is within bounds\n",
    "            try:\n",
    "               image_channel = {} \n",
    "               for channel in tqdm(range(channel_slider.max)):    \n",
    "                  images = render.render_vis(model, C((layer_name, channel)), verbose = False)\n",
    "                  image_channel[channel] = images \n",
    "            except Exception:\n",
    "                print('No gradients for this layer')    \n",
    "    return image_channel   \n",
    "\n",
    "\n",
    "# Create dropdown menu for layer selection\n",
    "layer_dropdown = Dropdown(options=list(layer_shape_dict.keys()), description='Layer:')\n",
    "\n",
    "# Create slider for channel selection\n",
    "channel_slider = IntSlider(min=0, max=0, description='Channel:')\n",
    "        \n",
    "        \n",
    "def update_channel_slider(change):\n",
    "    layer_name = change.new\n",
    "    if layer_name in layer_shape_dict:\n",
    "        print(layer_name)\n",
    "        print(layer_shape_dict[layer_name])\n",
    "        max_channel = layer_shape_dict[layer_name][-1] - 1\n",
    "        channel_slider.max = max_channel\n",
    "        \n",
    "        \n",
    "def current_slider_value(*args):\n",
    "    return channel_slider.value\n",
    "\n",
    "\n",
    "def current_dropdown_value(change):\n",
    "    return change['new']\n",
    "\n",
    "\n",
    "channel_slider.observe(current_slider_value, names='value')\n",
    "layer_dropdown.observe(current_dropdown_value, names='value')\n",
    "          "
   ]
  },
  {
   "cell_type": "code",
   "execution_count": 4,
   "metadata": {},
   "outputs": [
    {
     "name": "stdout",
     "output_type": "stream",
     "text": [
      "(32, 3, 224, 224) (32, 3, 224, 224)\n"
     ]
    },
    {
     "ename": "KeyError",
     "evalue": "\"The name 'import/tower_0/alexnet_v2/conv1/Conv2D:0' refers to a Tensor which does not exist. The operation, 'import/tower_0/alexnet_v2/conv1/Conv2D', does not exist in the graph.\"",
     "output_type": "error",
     "traceback": [
      "\u001b[0;31m---------------------------------------------------------------------------\u001b[0m",
      "\u001b[0;31mKeyError\u001b[0m                                  Traceback (most recent call last)",
      "File \u001b[0;32m~/miniconda3/envs/lucidenv/lib/python3.12/site-packages/tensorflow/python/framework/ops.py:2925\u001b[0m, in \u001b[0;36mGraph._as_graph_element_locked\u001b[0;34m(self, obj, allow_tensor, allow_operation)\u001b[0m\n\u001b[1;32m   2924\u001b[0m \u001b[38;5;28;01mtry\u001b[39;00m:\n\u001b[0;32m-> 2925\u001b[0m   op \u001b[38;5;241m=\u001b[39m \u001b[38;5;28;43mself\u001b[39;49m\u001b[38;5;241;43m.\u001b[39;49m\u001b[43m_get_operation_by_name\u001b[49m\u001b[43m(\u001b[49m\u001b[43mop_name\u001b[49m\u001b[43m)\u001b[49m\n\u001b[1;32m   2926\u001b[0m \u001b[38;5;28;01mexcept\u001b[39;00m \u001b[38;5;167;01mKeyError\u001b[39;00m \u001b[38;5;28;01mas\u001b[39;00m exc:\n",
      "\u001b[0;31mKeyError\u001b[0m: ''",
      "\nThe above exception was the direct cause of the following exception:\n",
      "\u001b[0;31mKeyError\u001b[0m                                  Traceback (most recent call last)",
      "Cell \u001b[0;32mIn[4], line 5\u001b[0m\n\u001b[1;32m      3\u001b[0m shape \u001b[38;5;241m=\u001b[39m (\u001b[38;5;241m1\u001b[39m,\u001b[38;5;241m224\u001b[39m, \u001b[38;5;241m224\u001b[39m,\u001b[38;5;241m3\u001b[39m)\n\u001b[1;32m      4\u001b[0m array_4d_random \u001b[38;5;241m=\u001b[39m np\u001b[38;5;241m.\u001b[39mrandom\u001b[38;5;241m.\u001b[39mrandom(shape)\n\u001b[0;32m----> 5\u001b[0m \u001b[43mmodel\u001b[49m\u001b[38;5;241;43m.\u001b[39;49m\u001b[43mget_activations\u001b[49m\u001b[43m(\u001b[49m\u001b[43mlname\u001b[49m\u001b[43m,\u001b[49m\u001b[43m \u001b[49m\u001b[43marray_4d_random\u001b[49m\u001b[43m)\u001b[49m\n",
      "File \u001b[0;32m~/python_workspace/lucid-kietzmannlab/src/lucid_kietzmannlab/modelzoo/vision_base.py:635\u001b[0m, in \u001b[0;36mModel.get_activations\u001b[0;34m(self, layer, examples, batch_size, dtype, ind_shape, center_only)\u001b[0m\n\u001b[1;32m    597\u001b[0m \u001b[38;5;28;01mdef\u001b[39;00m \u001b[38;5;21mget_activations\u001b[39m(\n\u001b[1;32m    598\u001b[0m     \u001b[38;5;28mself\u001b[39m,\n\u001b[1;32m    599\u001b[0m     layer,\n\u001b[0;32m   (...)\u001b[0m\n\u001b[1;32m    604\u001b[0m     center_only\u001b[38;5;241m=\u001b[39m\u001b[38;5;28;01mFalse\u001b[39;00m,\n\u001b[1;32m    605\u001b[0m ):\n\u001b[1;32m    606\u001b[0m \u001b[38;5;250m    \u001b[39m\u001b[38;5;124;03m\"\"\"Collect center activtions of a layer over an n-dimensional array of images.\u001b[39;00m\n\u001b[1;32m    607\u001b[0m \n\u001b[1;32m    608\u001b[0m \u001b[38;5;124;03m    Note: this is mostly intended for large synthetic families of images, where\u001b[39;00m\n\u001b[0;32m   (...)\u001b[0m\n\u001b[1;32m    632\u001b[0m \u001b[38;5;124;03m      A numpy array of shape [ind1, ind2, ..., layer_channels]\u001b[39;00m\n\u001b[1;32m    633\u001b[0m \u001b[38;5;124;03m    \"\"\"\u001b[39;00m\n\u001b[0;32m--> 635\u001b[0m     \u001b[38;5;28;01mreturn\u001b[39;00m \u001b[43m_get_activations\u001b[49m\u001b[43m(\u001b[49m\n\u001b[1;32m    636\u001b[0m \u001b[43m        \u001b[49m\u001b[38;5;28;43mself\u001b[39;49m\u001b[43m,\u001b[49m\n\u001b[1;32m    637\u001b[0m \u001b[43m        \u001b[49m\u001b[43mlayer\u001b[49m\u001b[43m,\u001b[49m\n\u001b[1;32m    638\u001b[0m \u001b[43m        \u001b[49m\u001b[43mexamples\u001b[49m\u001b[43m,\u001b[49m\n\u001b[1;32m    639\u001b[0m \u001b[43m        \u001b[49m\u001b[43mbatch_size\u001b[49m\u001b[38;5;241;43m=\u001b[39;49m\u001b[43mbatch_size\u001b[49m\u001b[43m,\u001b[49m\n\u001b[1;32m    640\u001b[0m \u001b[43m        \u001b[49m\u001b[43mdtype\u001b[49m\u001b[38;5;241;43m=\u001b[39;49m\u001b[43mdtype\u001b[49m\u001b[43m,\u001b[49m\n\u001b[1;32m    641\u001b[0m \u001b[43m        \u001b[49m\u001b[43mind_shape\u001b[49m\u001b[38;5;241;43m=\u001b[39;49m\u001b[43mind_shape\u001b[49m\u001b[43m,\u001b[49m\n\u001b[1;32m    642\u001b[0m \u001b[43m        \u001b[49m\u001b[43mcenter_only\u001b[49m\u001b[38;5;241;43m=\u001b[39;49m\u001b[43mcenter_only\u001b[49m\u001b[43m,\u001b[49m\n\u001b[1;32m    643\u001b[0m \u001b[43m    \u001b[49m\u001b[43m)\u001b[49m\n",
      "File \u001b[0;32m~/python_workspace/lucid-kietzmannlab/src/lucid_kietzmannlab/modelzoo/vision_base.py:272\u001b[0m, in \u001b[0;36m_get_activations\u001b[0;34m(model, layer, examples, batch_size, dtype, ind_shape, center_only)\u001b[0m\n\u001b[1;32m    266\u001b[0m examples_enumerated \u001b[38;5;241m=\u001b[39m recursive_enumerate_nd(\n\u001b[1;32m    267\u001b[0m     examples,\n\u001b[1;32m    268\u001b[0m     stop_iter\u001b[38;5;241m=\u001b[39m\u001b[38;5;28;01mlambda\u001b[39;00m x: \u001b[38;5;28misinstance\u001b[39m(x, np\u001b[38;5;241m.\u001b[39mndarray) \u001b[38;5;129;01mand\u001b[39;00m \u001b[38;5;28mlen\u001b[39m(x\u001b[38;5;241m.\u001b[39mshape) \u001b[38;5;241m<\u001b[39m\u001b[38;5;241m=\u001b[39m \u001b[38;5;241m3\u001b[39m,\n\u001b[1;32m    269\u001b[0m )\n\u001b[1;32m    271\u001b[0m \u001b[38;5;66;03m# Get responses\u001b[39;00m\n\u001b[0;32m--> 272\u001b[0m \u001b[38;5;28;01mreturn\u001b[39;00m \u001b[43mget_activations_iter\u001b[49m\u001b[43m(\u001b[49m\n\u001b[1;32m    273\u001b[0m \u001b[43m    \u001b[49m\u001b[43mmodel\u001b[49m\u001b[43m,\u001b[49m\n\u001b[1;32m    274\u001b[0m \u001b[43m    \u001b[49m\u001b[43mlayer\u001b[49m\u001b[43m,\u001b[49m\n\u001b[1;32m    275\u001b[0m \u001b[43m    \u001b[49m\u001b[43mexamples_enumerated\u001b[49m\u001b[43m,\u001b[49m\n\u001b[1;32m    276\u001b[0m \u001b[43m    \u001b[49m\u001b[43mbatch_size\u001b[49m\u001b[38;5;241;43m=\u001b[39;49m\u001b[43mbatch_size\u001b[49m\u001b[43m,\u001b[49m\n\u001b[1;32m    277\u001b[0m \u001b[43m    \u001b[49m\u001b[43mdtype\u001b[49m\u001b[38;5;241;43m=\u001b[39;49m\u001b[43mdtype\u001b[49m\u001b[43m,\u001b[49m\n\u001b[1;32m    278\u001b[0m \u001b[43m    \u001b[49m\u001b[43mind_shape\u001b[49m\u001b[38;5;241;43m=\u001b[39;49m\u001b[43mind_shape\u001b[49m\u001b[43m,\u001b[49m\n\u001b[1;32m    279\u001b[0m \u001b[43m    \u001b[49m\u001b[43mcenter_only\u001b[49m\u001b[38;5;241;43m=\u001b[39;49m\u001b[43mcenter_only\u001b[49m\u001b[43m,\u001b[49m\n\u001b[1;32m    280\u001b[0m \u001b[43m\u001b[49m\u001b[43m)\u001b[49m\n",
      "File \u001b[0;32m~/python_workspace/lucid-kietzmannlab/src/lucid_kietzmannlab/modelzoo/vision_base.py:164\u001b[0m, in \u001b[0;36mget_activations_iter\u001b[0;34m(model, layer, generator, reducer, batch_size, dtype, ind_shape, center_only)\u001b[0m\n\u001b[1;32m    162\u001b[0m t_img \u001b[38;5;241m=\u001b[39m tf\u001b[38;5;241m.\u001b[39mcompat\u001b[38;5;241m.\u001b[39mv1\u001b[38;5;241m.\u001b[39mplaceholder(\u001b[38;5;124m\"\u001b[39m\u001b[38;5;124mfloat32\u001b[39m\u001b[38;5;124m\"\u001b[39m, [\u001b[38;5;28;01mNone\u001b[39;00m, \u001b[38;5;28;01mNone\u001b[39;00m, \u001b[38;5;28;01mNone\u001b[39;00m, \u001b[38;5;241m3\u001b[39m])\n\u001b[1;32m    163\u001b[0m T \u001b[38;5;241m=\u001b[39m model\u001b[38;5;241m.\u001b[39mimport_graph(t_img)\n\u001b[0;32m--> 164\u001b[0m t_layer \u001b[38;5;241m=\u001b[39m \u001b[43mT\u001b[49m\u001b[43m(\u001b[49m\u001b[43mlayer\u001b[49m\u001b[43m)\u001b[49m\n\u001b[1;32m    166\u001b[0m responses \u001b[38;5;241m=\u001b[39m \u001b[38;5;28;01mNone\u001b[39;00m\n\u001b[1;32m    167\u001b[0m count \u001b[38;5;241m=\u001b[39m \u001b[38;5;28;01mNone\u001b[39;00m\n",
      "File \u001b[0;32m~/python_workspace/lucid-kietzmannlab/src/lucid_kietzmannlab/modelzoo/vision_base.py:415\u001b[0m, in \u001b[0;36mModel.import_graph.<locals>.T\u001b[0;34m(layer)\u001b[0m\n\u001b[1;32m    413\u001b[0m     \u001b[38;5;28;01mreturn\u001b[39;00m graph\u001b[38;5;241m.\u001b[39mget_tensor_by_name(\u001b[38;5;124mf\u001b[39m\u001b[38;5;124m\"\u001b[39m\u001b[38;5;132;01m{\u001b[39;00mscope\u001b[38;5;132;01m}\u001b[39;00m\u001b[38;5;124m/\u001b[39m\u001b[38;5;132;01m{\u001b[39;00mlayer\u001b[38;5;132;01m}\u001b[39;00m\u001b[38;5;124m\"\u001b[39m)\n\u001b[1;32m    414\u001b[0m \u001b[38;5;28;01melse\u001b[39;00m:\n\u001b[0;32m--> 415\u001b[0m     \u001b[38;5;28;01mreturn\u001b[39;00m \u001b[43mgraph\u001b[49m\u001b[38;5;241;43m.\u001b[39;49m\u001b[43mget_tensor_by_name\u001b[49m\u001b[43m(\u001b[49m\u001b[38;5;124;43mf\u001b[39;49m\u001b[38;5;124;43m\"\u001b[39;49m\u001b[38;5;132;43;01m{\u001b[39;49;00m\u001b[43mscope\u001b[49m\u001b[38;5;132;43;01m}\u001b[39;49;00m\u001b[38;5;124;43m/\u001b[39;49m\u001b[38;5;132;43;01m{\u001b[39;49;00m\u001b[43mlayer\u001b[49m\u001b[38;5;132;43;01m}\u001b[39;49;00m\u001b[38;5;124;43m:0\u001b[39;49m\u001b[38;5;124;43m\"\u001b[39;49m\u001b[43m)\u001b[49m\n",
      "File \u001b[0;32m~/miniconda3/envs/lucidenv/lib/python3.12/site-packages/tensorflow/python/framework/ops.py:3036\u001b[0m, in \u001b[0;36mGraph.get_tensor_by_name\u001b[0;34m(self, name)\u001b[0m\n\u001b[1;32m   3031\u001b[0m \u001b[38;5;28;01mif\u001b[39;00m \u001b[38;5;129;01mnot\u001b[39;00m \u001b[38;5;28misinstance\u001b[39m(name, \u001b[38;5;28mstr\u001b[39m):\n\u001b[1;32m   3032\u001b[0m   \u001b[38;5;28;01mraise\u001b[39;00m \u001b[38;5;167;01mTypeError\u001b[39;00m(\u001b[38;5;124m\"\u001b[39m\u001b[38;5;124mTensor names are strings (or similar), not \u001b[39m\u001b[38;5;132;01m%s\u001b[39;00m\u001b[38;5;124m.\u001b[39m\u001b[38;5;124m\"\u001b[39m \u001b[38;5;241m%\u001b[39m\n\u001b[1;32m   3033\u001b[0m                   \u001b[38;5;28mtype\u001b[39m(name)\u001b[38;5;241m.\u001b[39m\u001b[38;5;18m__name__\u001b[39m)\n\u001b[1;32m   3034\u001b[0m tensor \u001b[38;5;241m=\u001b[39m cast(\n\u001b[1;32m   3035\u001b[0m     tensor_lib\u001b[38;5;241m.\u001b[39mTensor,\n\u001b[0;32m-> 3036\u001b[0m     \u001b[38;5;28;43mself\u001b[39;49m\u001b[38;5;241;43m.\u001b[39;49m\u001b[43mas_graph_element\u001b[49m\u001b[43m(\u001b[49m\u001b[43mname\u001b[49m\u001b[43m,\u001b[49m\u001b[43m \u001b[49m\u001b[43mallow_tensor\u001b[49m\u001b[38;5;241;43m=\u001b[39;49m\u001b[38;5;28;43;01mTrue\u001b[39;49;00m\u001b[43m,\u001b[49m\u001b[43m \u001b[49m\u001b[43mallow_operation\u001b[49m\u001b[38;5;241;43m=\u001b[39;49m\u001b[38;5;28;43;01mFalse\u001b[39;49;00m\u001b[43m)\u001b[49m\n\u001b[1;32m   3037\u001b[0m )\n\u001b[1;32m   3038\u001b[0m \u001b[38;5;28;01mreturn\u001b[39;00m tensor\n",
      "File \u001b[0;32m~/miniconda3/envs/lucidenv/lib/python3.12/site-packages/tensorflow/python/framework/ops.py:2885\u001b[0m, in \u001b[0;36mGraph.as_graph_element\u001b[0;34m(self, obj, allow_tensor, allow_operation)\u001b[0m\n\u001b[1;32m   2882\u001b[0m   \u001b[38;5;28;01mreturn\u001b[39;00m \u001b[38;5;28mself\u001b[39m\u001b[38;5;241m.\u001b[39m_as_graph_element_locked(obj, allow_tensor, allow_operation)\n\u001b[1;32m   2884\u001b[0m \u001b[38;5;28;01mwith\u001b[39;00m \u001b[38;5;28mself\u001b[39m\u001b[38;5;241m.\u001b[39m_lock:\n\u001b[0;32m-> 2885\u001b[0m   \u001b[38;5;28;01mreturn\u001b[39;00m \u001b[38;5;28;43mself\u001b[39;49m\u001b[38;5;241;43m.\u001b[39;49m\u001b[43m_as_graph_element_locked\u001b[49m\u001b[43m(\u001b[49m\u001b[43mobj\u001b[49m\u001b[43m,\u001b[49m\u001b[43m \u001b[49m\u001b[43mallow_tensor\u001b[49m\u001b[43m,\u001b[49m\u001b[43m \u001b[49m\u001b[43mallow_operation\u001b[49m\u001b[43m)\u001b[49m\n",
      "File \u001b[0;32m~/miniconda3/envs/lucidenv/lib/python3.12/site-packages/tensorflow/python/framework/ops.py:2927\u001b[0m, in \u001b[0;36mGraph._as_graph_element_locked\u001b[0;34m(self, obj, allow_tensor, allow_operation)\u001b[0m\n\u001b[1;32m   2925\u001b[0m   op \u001b[38;5;241m=\u001b[39m \u001b[38;5;28mself\u001b[39m\u001b[38;5;241m.\u001b[39m_get_operation_by_name(op_name)\n\u001b[1;32m   2926\u001b[0m \u001b[38;5;28;01mexcept\u001b[39;00m \u001b[38;5;167;01mKeyError\u001b[39;00m \u001b[38;5;28;01mas\u001b[39;00m exc:\n\u001b[0;32m-> 2927\u001b[0m   \u001b[38;5;28;01mraise\u001b[39;00m \u001b[38;5;167;01mKeyError\u001b[39;00m(\n\u001b[1;32m   2928\u001b[0m       \u001b[38;5;124m\"\u001b[39m\u001b[38;5;124mThe name \u001b[39m\u001b[38;5;132;01m%s\u001b[39;00m\u001b[38;5;124m refers to a Tensor which does not \u001b[39m\u001b[38;5;124m\"\u001b[39m\n\u001b[1;32m   2929\u001b[0m       \u001b[38;5;124m\"\u001b[39m\u001b[38;5;124mexist. The operation, \u001b[39m\u001b[38;5;132;01m%s\u001b[39;00m\u001b[38;5;124m, does not exist in the \u001b[39m\u001b[38;5;124m\"\u001b[39m\n\u001b[1;32m   2930\u001b[0m       \u001b[38;5;124m\"\u001b[39m\u001b[38;5;124mgraph.\u001b[39m\u001b[38;5;124m\"\u001b[39m \u001b[38;5;241m%\u001b[39m (\u001b[38;5;28mrepr\u001b[39m(name), \u001b[38;5;28mrepr\u001b[39m(op_name))\n\u001b[1;32m   2931\u001b[0m   ) \u001b[38;5;28;01mfrom\u001b[39;00m \u001b[38;5;21;01mexc\u001b[39;00m\n\u001b[1;32m   2933\u001b[0m \u001b[38;5;28;01mtry\u001b[39;00m:\n\u001b[1;32m   2934\u001b[0m   \u001b[38;5;28;01mreturn\u001b[39;00m op\u001b[38;5;241m.\u001b[39moutputs[out_n]\n",
      "\u001b[0;31mKeyError\u001b[0m: \"The name 'import/tower_0/alexnet_v2/conv1/Conv2D:0' refers to a Tensor which does not exist. The operation, 'import/tower_0/alexnet_v2/conv1/Conv2D', does not exist in the graph.\""
     ]
    }
   ],
   "source": [
    "import numpy as np\n",
    "lname = 'tower_0/alexnet_v2/conv1/Conv2D'\n",
    "shape = (1,224, 224,3)\n",
    "array_4d_random = np.random.random(shape)\n",
    "model.get_activations(lname, array_4d_random)"
   ]
  },
  {
   "cell_type": "code",
   "execution_count": 5,
   "metadata": {},
   "outputs": [
    {
     "name": "stdout",
     "output_type": "stream",
     "text": [
      "(32, 64, 54, 54)\n",
      "(32, 3, 224, 224) (32, 3, 224, 224)\n",
      "['Variable/Initializer/initial_value', 'Variable', 'Variable/IsInitialized/VarIsInitializedOp', 'Variable/Assign', 'Variable/Read/ReadVariableOp', 'ReadVariableOp', 'strided_slice/stack', 'strided_slice/stack_1', 'strided_slice/stack_2', 'strided_slice', 'ReadVariableOp_1', 'strided_slice_1/stack', 'strided_slice_1/stack_1', 'strided_slice_1/stack_2', 'strided_slice_1', 'Complex', 'mul/y', 'mul', 'irfft2d/Const', 'irfft2d/fft_length', 'irfft2d', 'strided_slice_2/stack', 'strided_slice_2/stack_1', 'strided_slice_2/stack_2', 'strided_slice_2', 'transpose/perm', 'transpose', 'stack', 'truediv/y', 'truediv', 'strided_slice_3/stack', 'strided_slice_3/stack_1', 'strided_slice_3/stack_2', 'strided_slice_3', 'Reshape/shape', 'Reshape', 'MatMul/b', 'MatMul', 'Shape', 'Reshape_1', 'Sigmoid', 'PadV2/paddings', 'PadV2/constant_values', 'PadV2', 'Shape_1', 'strided_slice_4/stack', 'strided_slice_4/stack_1', 'strided_slice_4/stack_2', 'strided_slice_4', 'strided_slice_5/stack', 'strided_slice_5/stack_1', 'strided_slice_5/stack_2', 'strided_slice_5', 'sub/y', 'sub', 'strided_slice_6/stack', 'strided_slice_6/stack_1', 'strided_slice_6/stack_2', 'strided_slice_6', 'concat/axis', 'concat', 'random_crop/Shape', 'random_crop/GreaterEqual', 'random_crop/Const', 'random_crop/All', 'random_crop/Assert/Const', 'random_crop/Assert/Assert/data_0', 'random_crop/Assert/Assert', 'random_crop/control_dependency', 'random_crop/sub', 'random_crop/add/y', 'random_crop/add', 'random_crop/Shape_1', 'random_crop/random_uniform/min', 'random_crop/random_uniform/max', 'random_crop/random_uniform', 'random_crop/mod', 'random_crop', 'random_uniform/shape', 'random_uniform/min', 'random_uniform/max', 'random_uniform', 'Const', 'add/y', 'add', 'strided_slice_7/stack', 'strided_slice_7/stack_1', 'strided_slice_7/stack_2', 'strided_slice_7', 'Shape_2', 'strided_slice_8/stack', 'strided_slice_8/stack_1', 'strided_slice_8/stack_2', 'strided_slice_8', 'Cast', 'mul_1', 'Cast_1', 'resize/ResizeBilinear', 'random_uniform_1/shape', 'random_uniform_1/min', 'random_uniform_1/max', 'random_uniform_1', 'Const_1', 'add_1/y', 'add_1', 'strided_slice_9/stack', 'strided_slice_9/stack_1', 'strided_slice_9/stack_2', 'strided_slice_9', 'Cast_2', 'mul_2/x', 'mul_2', 'truediv_1/y', 'truediv_1', 'rot90/Shape', 'rot90/strided_slice/stack', 'rot90/strided_slice/stack_1', 'rot90/strided_slice/stack_2', 'rot90/strided_slice', 'rot90/assert_positive/Const', 'rot90/assert_positive/assert_less/Less', 'rot90/assert_positive/assert_less/Const', 'rot90/assert_positive/assert_less/All', 'rot90/assert_positive/assert_less/Assert/Const', 'rot90/assert_positive/assert_less/Assert/Assert/data_0', 'rot90/assert_positive/assert_less/Assert/Assert', 'rot90/Rank', 'rot90/assert_greater_equal/y', 'rot90/assert_greater_equal/GreaterEqual', 'rot90/assert_greater_equal/Rank', 'rot90/assert_greater_equal/range/start', 'rot90/assert_greater_equal/range/delta', 'rot90/assert_greater_equal/range', 'rot90/assert_greater_equal/All', 'rot90/assert_greater_equal/Assert/Const', 'rot90/assert_greater_equal/Assert/Const_1', 'rot90/assert_greater_equal/Assert/Const_2', 'rot90/assert_greater_equal/Assert/Const_3', 'rot90/assert_greater_equal/Assert/Assert/data_0', 'rot90/assert_greater_equal/Assert/Assert/data_1', 'rot90/assert_greater_equal/Assert/Assert/data_2', 'rot90/assert_greater_equal/Assert/Assert/data_4', 'rot90/assert_greater_equal/Assert/Assert', 'rot90/control_dependency', 'rot90/k', 'rot90/mod/y', 'rot90/mod', 'rot90/Equal/y', 'rot90/Equal', 'rot90/Equal_1/y', 'rot90/Equal_1', 'rot90/Equal_2/y', 'rot90/Equal_2', 'rot90/preds_c', 'rot90/Cast', 'rot90/Const', 'rot90/num_true_conds', 'rot90/n_true_conds', 'rot90/LessEqual', 'rot90/Assert/Const', 'rot90/Assert/AssertGuard/Switch', 'rot90/Assert/AssertGuard/switch_t', 'rot90/Assert/AssertGuard/switch_f', 'rot90/Assert/AssertGuard/pred_id', 'rot90/Assert/AssertGuard/NoOp', 'rot90/Assert/AssertGuard/control_dependency', 'rot90/Assert/AssertGuard/Assert/data_0', 'rot90/Assert/AssertGuard/Assert', 'rot90/Assert/AssertGuard/Assert/Switch', 'rot90/Assert/AssertGuard/Assert/Switch_1', 'rot90/Assert/AssertGuard/control_dependency_1', 'rot90/Assert/AssertGuard/Merge', 'rot90/cond/Switch', 'rot90/cond/switch_t', 'rot90/cond/switch_f', 'rot90/cond/pred_id', 'rot90/cond/ReverseV2/axis', 'rot90/cond/ReverseV2', 'rot90/cond/ReverseV2/Switch', 'rot90/cond/transpose/perm', 'rot90/cond/transpose', 'rot90/cond/cond/Switch', 'rot90/cond/cond/Switch/Switch', 'rot90/cond/cond/switch_t', 'rot90/cond/cond/switch_f', 'rot90/cond/cond/pred_id', 'rot90/cond/cond/ReverseV2/axis', 'rot90/cond/cond/ReverseV2', 'rot90/cond/cond/ReverseV2/Switch', 'rot90/cond/cond/ReverseV2/Switch_1', 'rot90/cond/cond/cond/Switch', 'rot90/cond/cond/cond/Switch/Switch', 'rot90/cond/cond/cond/Switch/Switch_1', 'rot90/cond/cond/cond/switch_t', 'rot90/cond/cond/cond/switch_f', 'rot90/cond/cond/cond/pred_id', 'rot90/cond/cond/cond/transpose/perm', 'rot90/cond/cond/cond/transpose', 'rot90/cond/cond/cond/transpose/Switch', 'rot90/cond/cond/cond/transpose/Switch_1', 'rot90/cond/cond/cond/ReverseV2/axis', 'rot90/cond/cond/cond/ReverseV2', 'rot90/cond/cond/cond/Switch_1', 'rot90/cond/cond/cond/Merge', 'rot90/cond/cond/Merge', 'rot90/cond/Merge', 'Shape_3', 'strided_slice_10/stack', 'strided_slice_10/stack_1', 'strided_slice_10/stack_2', 'strided_slice_10', 'strided_slice_11/stack', 'strided_slice_11/stack_1', 'strided_slice_11/stack_2', 'strided_slice_11', 'sub_1/y', 'sub_1', 'strided_slice_12/stack', 'strided_slice_12/stack_1', 'strided_slice_12/stack_2', 'strided_slice_12', 'concat_1/axis', 'concat_1', 'random_crop_1/Shape', 'random_crop_1/GreaterEqual', 'random_crop_1/Const', 'random_crop_1/All', 'random_crop_1/Assert/Const', 'random_crop_1/Assert/Assert/data_0', 'random_crop_1/Assert/Assert', 'random_crop_1/control_dependency', 'random_crop_1/sub', 'random_crop_1/add/y', 'random_crop_1/add', 'random_crop_1/Shape_1', 'random_crop_1/random_uniform/min', 'random_crop_1/random_uniform/max', 'random_crop_1/random_uniform', 'random_crop_1/mod', 'random_crop_1', 'Placeholder', 'Variable/Initializer/initial_value_1', 'Variable_1', 'Variable/IsInitialized/VarIsInitializedOp_1', 'Variable/Assign_1', 'Variable/Read/ReadVariableOp_1', 'ReadVariableOp_2', 'strided_slice/stack_3', 'strided_slice/stack_1_1', 'strided_slice/stack_2_1', 'strided_slice_13', 'ReadVariableOp_1_1', 'strided_slice_1/stack_3', 'strided_slice_1/stack_1_1', 'strided_slice_1/stack_2_1', 'strided_slice_1_1', 'Complex_1', 'mul/y_1', 'mul_3', 'irfft2d/Const_1', 'irfft2d/fft_length_1', 'irfft2d_1', 'strided_slice_2/stack_3', 'strided_slice_2/stack_1_1', 'strided_slice_2/stack_2_1', 'strided_slice_2_1', 'transpose/perm_1', 'transpose_1', 'stack_1', 'truediv/y_1', 'truediv_2', 'strided_slice_3/stack_3', 'strided_slice_3/stack_1_1', 'strided_slice_3/stack_2_1', 'strided_slice_3_1', 'Reshape/shape_1', 'Reshape_2', 'MatMul/b_1', 'MatMul_1', 'Shape_4', 'Reshape_1_1', 'Sigmoid_1', 'PadV2/paddings_1', 'PadV2/constant_values_1', 'PadV2_1', 'Shape_1_1', 'strided_slice_4/stack_3', 'strided_slice_4/stack_1_1', 'strided_slice_4/stack_2_1', 'strided_slice_4_1', 'strided_slice_5/stack_3', 'strided_slice_5/stack_1_1', 'strided_slice_5/stack_2_1', 'strided_slice_5_1', 'sub/y_1', 'sub_2', 'strided_slice_6/stack_3', 'strided_slice_6/stack_1_1', 'strided_slice_6/stack_2_1', 'strided_slice_6_1', 'concat/axis_1', 'concat_2', 'random_crop/Shape_2', 'random_crop/GreaterEqual_1', 'random_crop/Const_1', 'random_crop/All_1', 'random_crop/Assert/Const_1', 'random_crop/Assert/Assert/data_0_1', 'random_crop/Assert/Assert_1', 'random_crop/control_dependency_1', 'random_crop/sub_1', 'random_crop/add/y_1', 'random_crop/add_1', 'random_crop/Shape_1_1', 'random_crop/random_uniform/min_1', 'random_crop/random_uniform/max_1', 'random_crop/random_uniform_1', 'random_crop/mod_1', 'random_crop_2', 'random_uniform/shape_1', 'random_uniform/min_1', 'random_uniform/max_1', 'random_uniform_2', 'Const_2', 'add/y_1', 'add_2', 'strided_slice_7/stack_3', 'strided_slice_7/stack_1_1', 'strided_slice_7/stack_2_1', 'strided_slice_7_1', 'Shape_2_1', 'strided_slice_8/stack_3', 'strided_slice_8/stack_1_1', 'strided_slice_8/stack_2_1', 'strided_slice_8_1', 'Cast_3', 'mul_1_1', 'Cast_1_1', 'resize/ResizeBilinear_1', 'random_uniform_1/shape_1', 'random_uniform_1/min_1', 'random_uniform_1/max_1', 'random_uniform_1_1', 'Const_1_1', 'add_1/y_1', 'add_1_1', 'strided_slice_9/stack_3', 'strided_slice_9/stack_1_1', 'strided_slice_9/stack_2_1', 'strided_slice_9_1', 'Cast_2_1', 'mul_2/x_1', 'mul_2_1', 'truediv_1/y_1', 'truediv_1_1', 'rot90/Shape_1', 'rot90/strided_slice/stack_3', 'rot90/strided_slice/stack_1_1', 'rot90/strided_slice/stack_2_1', 'rot90/strided_slice_1', 'rot90/assert_positive/Const_1', 'rot90/assert_positive/assert_less/Less_1', 'rot90/assert_positive/assert_less/Const_1', 'rot90/assert_positive/assert_less/All_1', 'rot90/assert_positive/assert_less/Assert/Const_1', 'rot90/assert_positive/assert_less/Assert/Assert/data_0_1', 'rot90/assert_positive/assert_less/Assert/Assert_1', 'rot90/Rank_1', 'rot90/assert_greater_equal/y_1', 'rot90/assert_greater_equal/GreaterEqual_1', 'rot90/assert_greater_equal/Rank_1', 'rot90/assert_greater_equal/range/start_1', 'rot90/assert_greater_equal/range/delta_1', 'rot90/assert_greater_equal/range_1', 'rot90/assert_greater_equal/All_1', 'rot90/assert_greater_equal/Assert/Const_4', 'rot90/assert_greater_equal/Assert/Const_1_1', 'rot90/assert_greater_equal/Assert/Const_2_1', 'rot90/assert_greater_equal/Assert/Const_3_1', 'rot90/assert_greater_equal/Assert/Assert/data_0_1', 'rot90/assert_greater_equal/Assert/Assert/data_1_1', 'rot90/assert_greater_equal/Assert/Assert/data_2_1', 'rot90/assert_greater_equal/Assert/Assert/data_4_1', 'rot90/assert_greater_equal/Assert/Assert_1', 'rot90/control_dependency_1', 'rot90/k_1', 'rot90/mod/y_1', 'rot90/mod_1', 'rot90/Equal/y_1', 'rot90/Equal_3', 'rot90/Equal_1/y_1', 'rot90/Equal_1_1', 'rot90/Equal_2/y_1', 'rot90/Equal_2_1', 'rot90/preds_c_1', 'rot90/Cast_1', 'rot90/Const_1', 'rot90/num_true_conds_1', 'rot90/n_true_conds_1', 'rot90/LessEqual_1', 'rot90/Assert/Const_1', 'rot90/Assert/AssertGuard/Switch_1', 'rot90/Assert/AssertGuard/switch_t_1', 'rot90/Assert/AssertGuard/switch_f_1', 'rot90/Assert/AssertGuard/pred_id_1', 'rot90/Assert/AssertGuard/NoOp_1', 'rot90/Assert/AssertGuard/control_dependency_2', 'rot90/Assert/AssertGuard/Assert/data_0_1', 'rot90/Assert/AssertGuard/Assert/Switch_2', 'rot90/Assert/AssertGuard/Assert/Switch_1_1', 'rot90/Assert/AssertGuard/Assert_1', 'rot90/Assert/AssertGuard/control_dependency_1_1', 'rot90/Assert/AssertGuard/Merge_1', 'rot90/cond/Switch_1', 'rot90/cond/switch_t_1', 'rot90/cond/switch_f_1', 'rot90/cond/pred_id_1', 'rot90/cond/ReverseV2/axis_1', 'rot90/cond/ReverseV2/Switch_1', 'rot90/cond/ReverseV2_1', 'rot90/cond/transpose/perm_1', 'rot90/cond/transpose_1', 'rot90/cond/cond/Switch/Switch_1', 'rot90/cond/cond/Switch_1', 'rot90/cond/cond/switch_t_1', 'rot90/cond/cond/switch_f_1', 'rot90/cond/cond/pred_id_1', 'rot90/cond/cond/ReverseV2/axis_1', 'rot90/cond/cond/ReverseV2/Switch_2', 'rot90/cond/cond/ReverseV2/Switch_1_1', 'rot90/cond/cond/ReverseV2_1', 'rot90/cond/cond/cond/Switch/Switch_2', 'rot90/cond/cond/cond/Switch/Switch_1_1', 'rot90/cond/cond/cond/Switch_2', 'rot90/cond/cond/cond/switch_t_1', 'rot90/cond/cond/cond/switch_f_1', 'rot90/cond/cond/cond/pred_id_1', 'rot90/cond/cond/cond/transpose/perm_1', 'rot90/cond/cond/cond/transpose/Switch_2', 'rot90/cond/cond/cond/transpose/Switch_1_1', 'rot90/cond/cond/cond/transpose_1', 'rot90/cond/cond/cond/ReverseV2/axis_1', 'rot90/cond/cond/cond/ReverseV2_1', 'rot90/cond/cond/cond/Switch_1_1', 'rot90/cond/cond/cond/Merge_1', 'rot90/cond/cond/Merge_1', 'rot90/cond/Merge_1', 'Shape_3_1', 'strided_slice_10/stack_3', 'strided_slice_10/stack_1_1', 'strided_slice_10/stack_2_1', 'strided_slice_10_1', 'strided_slice_11/stack_3', 'strided_slice_11/stack_1_1', 'strided_slice_11/stack_2_1', 'strided_slice_11_1', 'sub_1/y_1', 'sub_1_1', 'strided_slice_12/stack_3', 'strided_slice_12/stack_1_1', 'strided_slice_12/stack_2_1', 'strided_slice_12_1', 'concat_1/axis_1', 'concat_1_1', 'random_crop_1/Shape_2', 'random_crop_1/GreaterEqual_1', 'random_crop_1/Const_1', 'random_crop_1/All_1', 'random_crop_1/Assert/Const_1', 'random_crop_1/Assert/Assert/data_0_1', 'random_crop_1/Assert/Assert_1', 'random_crop_1/control_dependency_1', 'random_crop_1/sub_1', 'random_crop_1/add/y_1', 'random_crop_1/add_1', 'random_crop_1/Shape_1_1', 'random_crop_1/random_uniform/min_1', 'random_crop_1/random_uniform/max_1', 'random_crop_1/random_uniform_1', 'random_crop_1/mod_1', 'random_crop_1_1', 'Placeholder_1']\n",
      "tower_0/alexnet_v2/conv1/Conv2D []\n"
     ]
    },
    {
     "ename": "KeyError",
     "evalue": "\"The name 'None:0' refers to a Tensor which does not exist. The operation, 'None', does not exist in the graph.\"",
     "output_type": "error",
     "traceback": [
      "\u001b[0;31m---------------------------------------------------------------------------\u001b[0m",
      "\u001b[0;31mKeyError\u001b[0m                                  Traceback (most recent call last)",
      "File \u001b[0;32m~/miniconda3/envs/lucidenv/lib/python3.12/site-packages/tensorflow/python/framework/ops.py:2925\u001b[0m, in \u001b[0;36mGraph._as_graph_element_locked\u001b[0;34m(self, obj, allow_tensor, allow_operation)\u001b[0m\n\u001b[1;32m   2924\u001b[0m \u001b[38;5;28;01mtry\u001b[39;00m:\n\u001b[0;32m-> 2925\u001b[0m   op \u001b[38;5;241m=\u001b[39m \u001b[38;5;28;43mself\u001b[39;49m\u001b[38;5;241;43m.\u001b[39;49m\u001b[43m_get_operation_by_name\u001b[49m\u001b[43m(\u001b[49m\u001b[43mop_name\u001b[49m\u001b[43m)\u001b[49m\n\u001b[1;32m   2926\u001b[0m \u001b[38;5;28;01mexcept\u001b[39;00m \u001b[38;5;167;01mKeyError\u001b[39;00m \u001b[38;5;28;01mas\u001b[39;00m exc:\n",
      "\u001b[0;31mKeyError\u001b[0m: ''",
      "\nThe above exception was the direct cause of the following exception:\n",
      "\u001b[0;31mKeyError\u001b[0m                                  Traceback (most recent call last)",
      "Cell \u001b[0;32mIn[5], line 2\u001b[0m\n\u001b[1;32m      1\u001b[0m lname \u001b[38;5;241m=\u001b[39m \u001b[38;5;124m'\u001b[39m\u001b[38;5;124mtower_0/alexnet_v2/conv1/Conv2D\u001b[39m\u001b[38;5;124m'\u001b[39m\n\u001b[0;32m----> 2\u001b[0m \u001b[43mvisualize\u001b[49m\u001b[43m(\u001b[49m\u001b[43mlname\u001b[49m\u001b[43m,\u001b[49m\u001b[43m \u001b[49m\u001b[38;5;241;43m1\u001b[39;49m\u001b[43m)\u001b[49m\n",
      "Cell \u001b[0;32mIn[3], line 12\u001b[0m, in \u001b[0;36mvisualize\u001b[0;34m(layer_name, channel)\u001b[0m\n\u001b[1;32m      7\u001b[0m max_channel \u001b[38;5;241m=\u001b[39m layer_shape_dict[layer_name][\u001b[38;5;241m-\u001b[39m\u001b[38;5;241m1\u001b[39m] \u001b[38;5;241m-\u001b[39m \u001b[38;5;241m1\u001b[39m\n\u001b[1;32m      8\u001b[0m \u001b[38;5;28;01mif\u001b[39;00m \u001b[38;5;241m0\u001b[39m \u001b[38;5;241m<\u001b[39m\u001b[38;5;241m=\u001b[39m channel \u001b[38;5;241m<\u001b[39m\u001b[38;5;241m=\u001b[39m max_channel:\n\u001b[1;32m      9\u001b[0m     \u001b[38;5;66;03m#clear_output(wait=True)\u001b[39;00m\n\u001b[1;32m     10\u001b[0m     \u001b[38;5;66;03m# Render visualization for the selected layer and channel\u001b[39;00m\n\u001b[1;32m     11\u001b[0m     \u001b[38;5;66;03m#try:\u001b[39;00m\n\u001b[0;32m---> 12\u001b[0m     _ \u001b[38;5;241m=\u001b[39m \u001b[43mrender\u001b[49m\u001b[38;5;241;43m.\u001b[39;49m\u001b[43mrender_vis\u001b[49m\u001b[43m(\u001b[49m\u001b[43mmodel\u001b[49m\u001b[43m,\u001b[49m\u001b[43m \u001b[49m\u001b[43mC\u001b[49m\u001b[43m(\u001b[49m\u001b[43m(\u001b[49m\u001b[43mlayer_name\u001b[49m\u001b[43m,\u001b[49m\u001b[43m \u001b[49m\u001b[43mchannel\u001b[49m\u001b[43m)\u001b[49m\u001b[43m)\u001b[49m\u001b[43m,\u001b[49m\u001b[43m \u001b[49m\u001b[43mscope\u001b[49m\u001b[38;5;241;43m=\u001b[39;49m\u001b[38;5;124;43m'\u001b[39;49m\u001b[38;5;124;43m'\u001b[39;49m\u001b[43m)\u001b[49m\n",
      "File \u001b[0;32m~/python_workspace/lucid-kietzmannlab/src/lucid_kietzmannlab/optvis/render.py:92\u001b[0m, in \u001b[0;36mrender_vis\u001b[0;34m(model, objective_f, param_f, optimizer, transforms, thresholds, print_objectives, verbose, scope)\u001b[0m\n\u001b[1;32m     54\u001b[0m \u001b[38;5;250m\u001b[39m\u001b[38;5;124;03m\"\"\"Flexible optimization-base feature vis.\u001b[39;00m\n\u001b[1;32m     55\u001b[0m \n\u001b[1;32m     56\u001b[0m \u001b[38;5;124;03mThere's a lot of ways one might wish to customize otpimization-based\u001b[39;00m\n\u001b[0;32m   (...)\u001b[0m\n\u001b[1;32m     87\u001b[0m \u001b[38;5;124;03m  multiple channel visualizations stacked on top of each other.\u001b[39;00m\n\u001b[1;32m     88\u001b[0m \u001b[38;5;124;03m\"\"\"\u001b[39;00m\n\u001b[1;32m     90\u001b[0m \u001b[38;5;28;01mwith\u001b[39;00m tf\u001b[38;5;241m.\u001b[39mGraph()\u001b[38;5;241m.\u001b[39mas_default() \u001b[38;5;28;01mas\u001b[39;00m graph, tf\u001b[38;5;241m.\u001b[39mcompat\u001b[38;5;241m.\u001b[39mv1\u001b[38;5;241m.\u001b[39mSession() \u001b[38;5;28;01mas\u001b[39;00m sess:\n\u001b[0;32m---> 92\u001b[0m     T \u001b[38;5;241m=\u001b[39m \u001b[43mmake_vis_T\u001b[49m\u001b[43m(\u001b[49m\n\u001b[1;32m     93\u001b[0m \u001b[43m        \u001b[49m\u001b[43mmodel\u001b[49m\u001b[43m,\u001b[49m\u001b[43m \u001b[49m\u001b[43mobjective_f\u001b[49m\u001b[43m,\u001b[49m\u001b[43m \u001b[49m\u001b[43mparam_f\u001b[49m\u001b[43m,\u001b[49m\u001b[43m \u001b[49m\u001b[43moptimizer\u001b[49m\u001b[43m,\u001b[49m\u001b[43m \u001b[49m\u001b[43mtransforms\u001b[49m\u001b[43m,\u001b[49m\u001b[43m \u001b[49m\u001b[43mscope\u001b[49m\u001b[38;5;241;43m=\u001b[39;49m\u001b[43mscope\u001b[49m\n\u001b[1;32m     94\u001b[0m \u001b[43m    \u001b[49m\u001b[43m)\u001b[49m\n\u001b[1;32m     95\u001b[0m     print_objective_func \u001b[38;5;241m=\u001b[39m make_print_objective_func(print_objectives, T)\n\u001b[1;32m     96\u001b[0m     loss, vis_op, t_image \u001b[38;5;241m=\u001b[39m T(\u001b[38;5;124m\"\u001b[39m\u001b[38;5;124mloss\u001b[39m\u001b[38;5;124m\"\u001b[39m), T(\u001b[38;5;124m\"\u001b[39m\u001b[38;5;124mvis_op\u001b[39m\u001b[38;5;124m\"\u001b[39m), T(\u001b[38;5;124m\"\u001b[39m\u001b[38;5;124minput\u001b[39m\u001b[38;5;124m\"\u001b[39m)\n",
      "File \u001b[0;32m~/python_workspace/lucid-kietzmannlab/src/lucid_kietzmannlab/optvis/render.py:176\u001b[0m, in \u001b[0;36mmake_vis_T\u001b[0;34m(model, objective_f, param_f, optimizer, transforms, scope)\u001b[0m\n\u001b[1;32m    173\u001b[0m optimizer \u001b[38;5;241m=\u001b[39m make_optimizer(optimizer, [])\n\u001b[1;32m    175\u001b[0m T \u001b[38;5;241m=\u001b[39m import_model(model, transform_f(t_image), t_image, scope\u001b[38;5;241m=\u001b[39mscope)\n\u001b[0;32m--> 176\u001b[0m loss \u001b[38;5;241m=\u001b[39m \u001b[43mobjective_f\u001b[49m\u001b[43m(\u001b[49m\u001b[43mT\u001b[49m\u001b[43m)\u001b[49m\n\u001b[1;32m    178\u001b[0m global_step \u001b[38;5;241m=\u001b[39m tf\u001b[38;5;241m.\u001b[39mVariable(\u001b[38;5;241m0\u001b[39m, trainable\u001b[38;5;241m=\u001b[39m\u001b[38;5;28;01mFalse\u001b[39;00m, name\u001b[38;5;241m=\u001b[39m\u001b[38;5;124m\"\u001b[39m\u001b[38;5;124mglobal_step\u001b[39m\u001b[38;5;124m\"\u001b[39m)\n\u001b[1;32m    179\u001b[0m vis_op \u001b[38;5;241m=\u001b[39m optimizer\u001b[38;5;241m.\u001b[39mminimize(\u001b[38;5;241m-\u001b[39mloss, global_step\u001b[38;5;241m=\u001b[39mglobal_step)\n",
      "File \u001b[0;32m~/python_workspace/lucid-kietzmannlab/src/lucid_kietzmannlab/optvis/objectives.py:112\u001b[0m, in \u001b[0;36mObjective.__call__\u001b[0;34m(self, T)\u001b[0m\n\u001b[1;32m    111\u001b[0m \u001b[38;5;28;01mdef\u001b[39;00m \u001b[38;5;21m__call__\u001b[39m(\u001b[38;5;28mself\u001b[39m, T):\n\u001b[0;32m--> 112\u001b[0m     \u001b[38;5;28;01mreturn\u001b[39;00m \u001b[38;5;28;43mself\u001b[39;49m\u001b[38;5;241;43m.\u001b[39;49m\u001b[43mobjective_func\u001b[49m\u001b[43m(\u001b[49m\u001b[43mT\u001b[49m\u001b[43m)\u001b[49m\n",
      "File \u001b[0;32m~/python_workspace/lucid-kietzmannlab/src/lucid_kietzmannlab/optvis/objectives.py:160\u001b[0m, in \u001b[0;36mchannel.<locals>.<lambda>\u001b[0;34m(T)\u001b[0m\n\u001b[1;32m    158\u001b[0m \u001b[38;5;250m\u001b[39m\u001b[38;5;124;03m\"\"\"Visualize a single channel\"\"\"\u001b[39;00m\n\u001b[1;32m    159\u001b[0m \u001b[38;5;28;01mif\u001b[39;00m batch \u001b[38;5;129;01mis\u001b[39;00m \u001b[38;5;28;01mNone\u001b[39;00m:\n\u001b[0;32m--> 160\u001b[0m     \u001b[38;5;28;01mreturn\u001b[39;00m \u001b[38;5;28;01mlambda\u001b[39;00m T: tf\u001b[38;5;241m.\u001b[39mreduce_mean(\u001b[43mT\u001b[49m\u001b[43m(\u001b[49m\u001b[43mlayer\u001b[49m\u001b[43m)\u001b[49m[\u001b[38;5;241m.\u001b[39m\u001b[38;5;241m.\u001b[39m\u001b[38;5;241m.\u001b[39m, n_channel])\n\u001b[1;32m    161\u001b[0m \u001b[38;5;28;01melse\u001b[39;00m:\n\u001b[1;32m    162\u001b[0m     \u001b[38;5;28;01mreturn\u001b[39;00m \u001b[38;5;28;01mlambda\u001b[39;00m T: tf\u001b[38;5;241m.\u001b[39mreduce_mean(T(layer)[batch, \u001b[38;5;241m.\u001b[39m\u001b[38;5;241m.\u001b[39m\u001b[38;5;241m.\u001b[39m, n_channel])\n",
      "File \u001b[0;32m~/python_workspace/lucid-kietzmannlab/src/lucid_kietzmannlab/optvis/render.py:276\u001b[0m, in \u001b[0;36mimport_model.<locals>.T\u001b[0;34m(layer)\u001b[0m\n\u001b[1;32m    274\u001b[0m strings \u001b[38;5;241m=\u001b[39m [op\u001b[38;5;241m.\u001b[39mname \u001b[38;5;28;01mfor\u001b[39;00m op \u001b[38;5;129;01min\u001b[39;00m t_image\u001b[38;5;241m.\u001b[39mgraph\u001b[38;5;241m.\u001b[39mget_operations()]\n\u001b[1;32m    275\u001b[0m closest_op_name \u001b[38;5;241m=\u001b[39m find_closest_string(strings, \u001b[38;5;124mf\u001b[39m\u001b[38;5;124m\"\u001b[39m\u001b[38;5;132;01m{\u001b[39;00mlayer\u001b[38;5;132;01m}\u001b[39;00m\u001b[38;5;124m\"\u001b[39m)\n\u001b[0;32m--> 276\u001b[0m \u001b[38;5;28;01mreturn\u001b[39;00m \u001b[43mt_image\u001b[49m\u001b[38;5;241;43m.\u001b[39;49m\u001b[43mgraph\u001b[49m\u001b[38;5;241;43m.\u001b[39;49m\u001b[43mget_tensor_by_name\u001b[49m\u001b[43m(\u001b[49m\u001b[38;5;124;43mf\u001b[39;49m\u001b[38;5;124;43m\"\u001b[39;49m\u001b[38;5;132;43;01m{\u001b[39;49;00m\u001b[43mclosest_op_name\u001b[49m\u001b[38;5;132;43;01m}\u001b[39;49;00m\u001b[38;5;124;43m:0\u001b[39;49m\u001b[38;5;124;43m\"\u001b[39;49m\u001b[43m)\u001b[49m\n",
      "File \u001b[0;32m~/miniconda3/envs/lucidenv/lib/python3.12/site-packages/tensorflow/python/framework/ops.py:3036\u001b[0m, in \u001b[0;36mGraph.get_tensor_by_name\u001b[0;34m(self, name)\u001b[0m\n\u001b[1;32m   3031\u001b[0m \u001b[38;5;28;01mif\u001b[39;00m \u001b[38;5;129;01mnot\u001b[39;00m \u001b[38;5;28misinstance\u001b[39m(name, \u001b[38;5;28mstr\u001b[39m):\n\u001b[1;32m   3032\u001b[0m   \u001b[38;5;28;01mraise\u001b[39;00m \u001b[38;5;167;01mTypeError\u001b[39;00m(\u001b[38;5;124m\"\u001b[39m\u001b[38;5;124mTensor names are strings (or similar), not \u001b[39m\u001b[38;5;132;01m%s\u001b[39;00m\u001b[38;5;124m.\u001b[39m\u001b[38;5;124m\"\u001b[39m \u001b[38;5;241m%\u001b[39m\n\u001b[1;32m   3033\u001b[0m                   \u001b[38;5;28mtype\u001b[39m(name)\u001b[38;5;241m.\u001b[39m\u001b[38;5;18m__name__\u001b[39m)\n\u001b[1;32m   3034\u001b[0m tensor \u001b[38;5;241m=\u001b[39m cast(\n\u001b[1;32m   3035\u001b[0m     tensor_lib\u001b[38;5;241m.\u001b[39mTensor,\n\u001b[0;32m-> 3036\u001b[0m     \u001b[38;5;28;43mself\u001b[39;49m\u001b[38;5;241;43m.\u001b[39;49m\u001b[43mas_graph_element\u001b[49m\u001b[43m(\u001b[49m\u001b[43mname\u001b[49m\u001b[43m,\u001b[49m\u001b[43m \u001b[49m\u001b[43mallow_tensor\u001b[49m\u001b[38;5;241;43m=\u001b[39;49m\u001b[38;5;28;43;01mTrue\u001b[39;49;00m\u001b[43m,\u001b[49m\u001b[43m \u001b[49m\u001b[43mallow_operation\u001b[49m\u001b[38;5;241;43m=\u001b[39;49m\u001b[38;5;28;43;01mFalse\u001b[39;49;00m\u001b[43m)\u001b[49m\n\u001b[1;32m   3037\u001b[0m )\n\u001b[1;32m   3038\u001b[0m \u001b[38;5;28;01mreturn\u001b[39;00m tensor\n",
      "File \u001b[0;32m~/miniconda3/envs/lucidenv/lib/python3.12/site-packages/tensorflow/python/framework/ops.py:2885\u001b[0m, in \u001b[0;36mGraph.as_graph_element\u001b[0;34m(self, obj, allow_tensor, allow_operation)\u001b[0m\n\u001b[1;32m   2882\u001b[0m   \u001b[38;5;28;01mreturn\u001b[39;00m \u001b[38;5;28mself\u001b[39m\u001b[38;5;241m.\u001b[39m_as_graph_element_locked(obj, allow_tensor, allow_operation)\n\u001b[1;32m   2884\u001b[0m \u001b[38;5;28;01mwith\u001b[39;00m \u001b[38;5;28mself\u001b[39m\u001b[38;5;241m.\u001b[39m_lock:\n\u001b[0;32m-> 2885\u001b[0m   \u001b[38;5;28;01mreturn\u001b[39;00m \u001b[38;5;28;43mself\u001b[39;49m\u001b[38;5;241;43m.\u001b[39;49m\u001b[43m_as_graph_element_locked\u001b[49m\u001b[43m(\u001b[49m\u001b[43mobj\u001b[49m\u001b[43m,\u001b[49m\u001b[43m \u001b[49m\u001b[43mallow_tensor\u001b[49m\u001b[43m,\u001b[49m\u001b[43m \u001b[49m\u001b[43mallow_operation\u001b[49m\u001b[43m)\u001b[49m\n",
      "File \u001b[0;32m~/miniconda3/envs/lucidenv/lib/python3.12/site-packages/tensorflow/python/framework/ops.py:2927\u001b[0m, in \u001b[0;36mGraph._as_graph_element_locked\u001b[0;34m(self, obj, allow_tensor, allow_operation)\u001b[0m\n\u001b[1;32m   2925\u001b[0m   op \u001b[38;5;241m=\u001b[39m \u001b[38;5;28mself\u001b[39m\u001b[38;5;241m.\u001b[39m_get_operation_by_name(op_name)\n\u001b[1;32m   2926\u001b[0m \u001b[38;5;28;01mexcept\u001b[39;00m \u001b[38;5;167;01mKeyError\u001b[39;00m \u001b[38;5;28;01mas\u001b[39;00m exc:\n\u001b[0;32m-> 2927\u001b[0m   \u001b[38;5;28;01mraise\u001b[39;00m \u001b[38;5;167;01mKeyError\u001b[39;00m(\n\u001b[1;32m   2928\u001b[0m       \u001b[38;5;124m\"\u001b[39m\u001b[38;5;124mThe name \u001b[39m\u001b[38;5;132;01m%s\u001b[39;00m\u001b[38;5;124m refers to a Tensor which does not \u001b[39m\u001b[38;5;124m\"\u001b[39m\n\u001b[1;32m   2929\u001b[0m       \u001b[38;5;124m\"\u001b[39m\u001b[38;5;124mexist. The operation, \u001b[39m\u001b[38;5;132;01m%s\u001b[39;00m\u001b[38;5;124m, does not exist in the \u001b[39m\u001b[38;5;124m\"\u001b[39m\n\u001b[1;32m   2930\u001b[0m       \u001b[38;5;124m\"\u001b[39m\u001b[38;5;124mgraph.\u001b[39m\u001b[38;5;124m\"\u001b[39m \u001b[38;5;241m%\u001b[39m (\u001b[38;5;28mrepr\u001b[39m(name), \u001b[38;5;28mrepr\u001b[39m(op_name))\n\u001b[1;32m   2931\u001b[0m   ) \u001b[38;5;28;01mfrom\u001b[39;00m \u001b[38;5;21;01mexc\u001b[39;00m\n\u001b[1;32m   2933\u001b[0m \u001b[38;5;28;01mtry\u001b[39;00m:\n\u001b[1;32m   2934\u001b[0m   \u001b[38;5;28;01mreturn\u001b[39;00m op\u001b[38;5;241m.\u001b[39moutputs[out_n]\n",
      "\u001b[0;31mKeyError\u001b[0m: \"The name 'None:0' refers to a Tensor which does not exist. The operation, 'None', does not exist in the graph.\""
     ]
    }
   ],
   "source": [
    "lname = 'tower_0/alexnet_v2/conv1/Conv2D'\n",
    "visualize(lname, 1)"
   ]
  },
  {
   "cell_type": "code",
   "execution_count": null,
   "metadata": {},
   "outputs": [],
   "source": [
    "layer_dropdown.observe(update_channel_slider, names='value')\n",
    "\n",
    "# Create an interactive visualization\n",
    "interact(visualize, layer_name=layer_dropdown, channel=channel_slider)     \n"
   ]
  }
 ],
 "metadata": {
  "kernelspec": {
   "display_name": "lucidenv",
   "language": "python",
   "name": "python3"
  },
  "language_info": {
   "codemirror_mode": {
    "name": "ipython",
    "version": 3
   },
   "file_extension": ".py",
   "mimetype": "text/x-python",
   "name": "python",
   "nbconvert_exporter": "python",
   "pygments_lexer": "ipython3",
   "version": "3.12.3"
  }
 },
 "nbformat": 4,
 "nbformat_minor": 2
}
