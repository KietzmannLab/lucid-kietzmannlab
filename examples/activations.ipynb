{
 "cells": [
  {
   "cell_type": "code",
   "execution_count": null,
   "metadata": {},
   "outputs": [],
   "source": [
    "import lucid_kietzmannlab.modelzoo.vision_models as models\n",
    "from lucid_kietzmannlab.modelzoo.vision_models import plot_selected_layer_tensors\n",
    "from scipy.misc import face\n",
    "from skimage.transform import resize\n",
    "import numpy as np\n",
    "import tensorflow.compat.v1 as tf\n",
    "tf.compat.v1.disable_eager_execution()"
   ]
  },
  {
   "cell_type": "code",
   "execution_count": null,
   "metadata": {},
   "outputs": [],
   "source": [
    "\n",
    "model = models.AlexNet()\n",
    "input_shape = model.image_shape\n",
    "face_image = face()\n",
    "\n",
    "resized_face_image = resize(face_image, input_shape[:2])\n",
    "plot_selected_layer_tensors(model, np.expand_dims(resized_face_image, axis=0), tensors_to_plot=['Placeholder','Conv2D','Conv2D_6', 'Conv2D_7','Relu'])"
   ]
  },
  {
   "cell_type": "code",
   "execution_count": null,
   "metadata": {},
   "outputs": [],
   "source": [
    "model_checkpoint_dir=\"/Users/vkapoor/Downloads/models/AlexNet/training_seed_05\"\n",
    "training_seed = 5\n",
    "model = models.AlexNetv2(model_checkpoint_dir=model_checkpoint_dir, training_seed = training_seed)\n",
    "\n",
    "input_shape = model.image_shape\n",
    "face_image = face()\n",
    "face_image = np.transpose(face_image, (2, 0, 1))\n",
    "resized_face_image = np.zeros((3, 227, 227))  \n",
    "for i in range(3): \n",
    "    resized_face_image[i] = np.array(resize(face_image[i], (227, 227)))\n",
    "\n",
    "plot_selected_layer_tensors(model, np.expand_dims(resized_face_image, axis=0), tensors_to_plot=['Placeholder'], channels_first = True)"
   ]
  },
  {
   "cell_type": "code",
   "execution_count": null,
   "metadata": {},
   "outputs": [],
   "source": []
  }
 ],
 "metadata": {
  "kernelspec": {
   "display_name": "lucidenv",
   "language": "python",
   "name": "python3"
  },
  "language_info": {
   "codemirror_mode": {
    "name": "ipython",
    "version": 3
   },
   "file_extension": ".py",
   "mimetype": "text/x-python",
   "name": "python",
   "nbconvert_exporter": "python",
   "pygments_lexer": "ipython3",
   "version": "3.12.3"
  }
 },
 "nbformat": 4,
 "nbformat_minor": 2
}
