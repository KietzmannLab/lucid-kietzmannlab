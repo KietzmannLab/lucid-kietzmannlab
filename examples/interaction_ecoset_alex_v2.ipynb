{
 "cells": [
  {
   "cell_type": "code",
   "execution_count": 1,
   "metadata": {},
   "outputs": [],
   "source": [
    "import tensorflow.compat.v1 as tf\n",
    "import lucid_kietzmannlab.modelzoo.vision_models as models\n",
    "from ipywidgets import interact, Dropdown, IntSlider\n",
    "from lucid_kietzmannlab.utils import plot_images\n",
    "tf.compat.v1.disable_eager_execution()\n"
   ]
  },
  {
   "cell_type": "code",
   "execution_count": 2,
   "metadata": {},
   "outputs": [
    {
     "name": "stdout",
     "output_type": "stream",
     "text": [
      "loaded_images (1, 224, 224, 3)\n"
     ]
    },
    {
     "name": "stderr",
     "output_type": "stream",
     "text": [
      "/Users/vkapoor/miniconda3/envs/lucidenv/lib/python3.12/site-packages/tensorflow/python/keras/engine/base_layer_v1.py:1694: UserWarning: `layer.apply` is deprecated and will be removed in a future version. Please use `layer.__call__` method instead.\n",
      "  warnings.warn('`layer.apply` is deprecated and '\n"
     ]
    }
   ],
   "source": [
    "model_dir=\"/Users/vkapoor/Downloads/models/AlexNet/training_seed_05\"\n",
    "random_seed = 5\n",
    "model = models.AlexNetCodeOcean(model_dir=model_dir, random_seed = random_seed)\n"
   ]
  },
  {
   "cell_type": "code",
   "execution_count": 5,
   "metadata": {},
   "outputs": [],
   "source": [
    "layer_shape_dict = model.layer_shape_dict\n",
    "def visualize(layer_name, channel):\n",
    "    model.vis_layer = layer_name\n",
    "    model.channel = channel\n",
    "    image_channel = model.lucid_visualize_layer()\n",
    "    \n",
    "    \n",
    "def visualize_all(channel_start = 0, channel_end = 10):\n",
    "    layer_name = current_dropdown_value({'new': layer_dropdown.value})\n",
    "    model.vis_layer = layer_name\n",
    "    image_channel = model.lucid_visualize_layer(batch = True, channel_start = channel_start, channel_end = channel_end)\n",
    "    return image_channel              \n",
    "                              \n",
    "\n",
    "        \n",
    "# Create dropdown menu for layer selection\n",
    "layer_dropdown = Dropdown(options=list(layer_shape_dict.keys()), description='Layer:')\n",
    "\n",
    "# Create slider for channel selection\n",
    "channel_slider = IntSlider(min=0, max=0, description='Channel:')\n",
    "        \n",
    "        \n",
    "def update_channel_slider(change):\n",
    "    layer_name = change.new\n",
    "    if layer_name in layer_shape_dict:\n",
    "        \n",
    "        max_channel = layer_shape_dict[layer_name][-1] - 1\n",
    "        channel_slider.max = max_channel\n",
    "        \n",
    "        \n",
    "def current_slider_value(*args):\n",
    "    return channel_slider.value\n",
    "\n",
    "\n",
    "def current_dropdown_value(change):\n",
    "    return change['new']\n",
    "\n",
    "\n",
    "channel_slider.observe(current_slider_value, names='value')\n",
    "layer_dropdown.observe(current_dropdown_value, names='value')\n",
    "        \n",
    "\n",
    "       "
   ]
  },
  {
   "cell_type": "code",
   "execution_count": 6,
   "metadata": {},
   "outputs": [
    {
     "data": {
      "application/vnd.jupyter.widget-view+json": {
       "model_id": "5dd53e178671407cbb535351e53fdbc6",
       "version_major": 2,
       "version_minor": 0
      },
      "text/plain": [
       "interactive(children=(Dropdown(description='Layer:', options=('alexnet_v2/conv1/Conv2D', 'alexnet_v2/conv2/Con…"
      ]
     },
     "metadata": {},
     "output_type": "display_data"
    },
    {
     "data": {
      "text/plain": [
       "<function __main__.visualize(layer_name, channel)>"
      ]
     },
     "execution_count": 6,
     "metadata": {},
     "output_type": "execute_result"
    }
   ],
   "source": [
    "layer_dropdown.observe(update_channel_slider, names='value')\n",
    "\n",
    "# Create an interactive visualization\n",
    "interact(visualize, layer_name=layer_dropdown, channel=channel_slider)     "
   ]
  },
  {
   "cell_type": "code",
   "execution_count": 7,
   "metadata": {},
   "outputs": [
    {
     "name": "stdout",
     "output_type": "stream",
     "text": [
      "loaded_images (1, 224, 224, 3)\n",
      "INFO:tensorflow:Restoring parameters from /Users/vkapoor/Downloads/models/AlexNet/training_seed_05/model.ckpt_epoch89\n"
     ]
    },
    {
     "name": "stderr",
     "output_type": "stream",
     "text": [
      "  0%|          | 0/10 [00:00<?, ?it/s]2024-06-14 18:06:46.916316: W tensorflow/c/c_api.cc:305] Operation '{name:'alexnet_v2/fc8/biases/Assign' id:198 op device:{requested: '/device:CPU:0', assigned: ''} def:{{{node alexnet_v2/fc8/biases/Assign}} = AssignVariableOp[_has_manual_control_dependencies=true, dtype=DT_FLOAT, validate_shape=false, _device=\"/device:CPU:0\"](alexnet_v2/fc8/biases, alexnet_v2/fc8/biases/Initializer/zeros)}}' was changed by setting attribute after it was run by a session. This mutation will have no effect, and will trigger an error in the future. Either don't modify nodes after running them or create a new session.\n",
      " 10%|█         | 1/10 [00:39<05:55, 39.45s/it]2024-06-14 18:07:26.561493: W tensorflow/c/c_api.cc:305] Operation '{name:'alexnet_v2/fc8/biases/Assign' id:198 op device:{requested: '/device:CPU:0', assigned: ''} def:{{{node alexnet_v2/fc8/biases/Assign}} = AssignVariableOp[_has_manual_control_dependencies=true, dtype=DT_FLOAT, validate_shape=false, _device=\"/device:CPU:0\"](alexnet_v2/fc8/biases, alexnet_v2/fc8/biases/Initializer/zeros)}}' was changed by setting attribute after it was run by a session. This mutation will have no effect, and will trigger an error in the future. Either don't modify nodes after running them or create a new session.\n",
      " 20%|██        | 2/10 [01:24<05:42, 42.82s/it]2024-06-14 18:08:11.604536: W tensorflow/c/c_api.cc:305] Operation '{name:'alexnet_v2/fc8/biases/Assign' id:198 op device:{requested: '/device:CPU:0', assigned: ''} def:{{{node alexnet_v2/fc8/biases/Assign}} = AssignVariableOp[_has_manual_control_dependencies=true, dtype=DT_FLOAT, validate_shape=false, _device=\"/device:CPU:0\"](alexnet_v2/fc8/biases, alexnet_v2/fc8/biases/Initializer/zeros)}}' was changed by setting attribute after it was run by a session. This mutation will have no effect, and will trigger an error in the future. Either don't modify nodes after running them or create a new session.\n",
      " 30%|███       | 3/10 [02:00<04:37, 39.57s/it]2024-06-14 18:08:47.288427: W tensorflow/c/c_api.cc:305] Operation '{name:'alexnet_v2/fc8/biases/Assign' id:198 op device:{requested: '/device:CPU:0', assigned: ''} def:{{{node alexnet_v2/fc8/biases/Assign}} = AssignVariableOp[_has_manual_control_dependencies=true, dtype=DT_FLOAT, validate_shape=false, _device=\"/device:CPU:0\"](alexnet_v2/fc8/biases, alexnet_v2/fc8/biases/Initializer/zeros)}}' was changed by setting attribute after it was run by a session. This mutation will have no effect, and will trigger an error in the future. Either don't modify nodes after running them or create a new session.\n",
      " 40%|████      | 4/10 [02:36<03:50, 38.40s/it]2024-06-14 18:09:23.925262: W tensorflow/c/c_api.cc:305] Operation '{name:'alexnet_v2/fc8/biases/Assign' id:198 op device:{requested: '/device:CPU:0', assigned: ''} def:{{{node alexnet_v2/fc8/biases/Assign}} = AssignVariableOp[_has_manual_control_dependencies=true, dtype=DT_FLOAT, validate_shape=false, _device=\"/device:CPU:0\"](alexnet_v2/fc8/biases, alexnet_v2/fc8/biases/Initializer/zeros)}}' was changed by setting attribute after it was run by a session. This mutation will have no effect, and will trigger an error in the future. Either don't modify nodes after running them or create a new session.\n",
      " 50%|█████     | 5/10 [03:13<03:07, 37.58s/it]2024-06-14 18:10:00.010344: W tensorflow/c/c_api.cc:305] Operation '{name:'alexnet_v2/fc8/biases/Assign' id:198 op device:{requested: '/device:CPU:0', assigned: ''} def:{{{node alexnet_v2/fc8/biases/Assign}} = AssignVariableOp[_has_manual_control_dependencies=true, dtype=DT_FLOAT, validate_shape=false, _device=\"/device:CPU:0\"](alexnet_v2/fc8/biases, alexnet_v2/fc8/biases/Initializer/zeros)}}' was changed by setting attribute after it was run by a session. This mutation will have no effect, and will trigger an error in the future. Either don't modify nodes after running them or create a new session.\n",
      " 60%|██████    | 6/10 [03:48<02:27, 36.92s/it]2024-06-14 18:10:35.647821: W tensorflow/c/c_api.cc:305] Operation '{name:'alexnet_v2/fc8/biases/Assign' id:198 op device:{requested: '/device:CPU:0', assigned: ''} def:{{{node alexnet_v2/fc8/biases/Assign}} = AssignVariableOp[_has_manual_control_dependencies=true, dtype=DT_FLOAT, validate_shape=false, _device=\"/device:CPU:0\"](alexnet_v2/fc8/biases, alexnet_v2/fc8/biases/Initializer/zeros)}}' was changed by setting attribute after it was run by a session. This mutation will have no effect, and will trigger an error in the future. Either don't modify nodes after running them or create a new session.\n"
     ]
    }
   ],
   "source": [
    "image_channel = visualize_all(channel_start = 0, channel_end = 10)"
   ]
  },
  {
   "cell_type": "code",
   "execution_count": null,
   "metadata": {},
   "outputs": [],
   "source": [
    "\n",
    "if image_channel:\n",
    "    plot_images(image_channel)   "
   ]
  },
  {
   "cell_type": "code",
   "execution_count": null,
   "metadata": {},
   "outputs": [],
   "source": [
    "layer_shape_dict.items()"
   ]
  }
 ],
 "metadata": {
  "kernelspec": {
   "display_name": "lucidenv",
   "language": "python",
   "name": "python3"
  },
  "language_info": {
   "codemirror_mode": {
    "name": "ipython",
    "version": 3
   },
   "file_extension": ".py",
   "mimetype": "text/x-python",
   "name": "python",
   "nbconvert_exporter": "python",
   "pygments_lexer": "ipython3",
   "version": "3.12.3"
  }
 },
 "nbformat": 4,
 "nbformat_minor": 2
}
