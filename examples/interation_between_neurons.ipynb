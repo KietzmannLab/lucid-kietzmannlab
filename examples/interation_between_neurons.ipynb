{
 "cells": [
  {
   "cell_type": "code",
   "execution_count": 1,
   "metadata": {},
   "outputs": [],
   "source": [
    "import tensorflow.compat.v1 as tf \n",
    "import matplotlib.pyplot as plt\n",
    "from tqdm import tqdm\n",
    "import lucid_kietzmannlab.modelzoo.vision_models as models\n",
    "import lucid_kietzmannlab.optvis.objectives as objectives\n",
    "import lucid_kietzmannlab.optvis.render as render\n",
    "from IPython.display import clear_output\n",
    "from ipywidgets import interact, Dropdown, IntSlider\n",
    "\n",
    "\n"
   ]
  },
  {
   "cell_type": "markdown",
   "metadata": {},
   "source": [
    "## A notebook to maximally activate certain neurons in the Alex Net neural network "
   ]
  },
  {
   "cell_type": "markdown",
   "metadata": {},
   "source": [
    "### Choose the alexnet model"
   ]
  },
  {
   "cell_type": "code",
   "execution_count": 2,
   "metadata": {},
   "outputs": [],
   "source": [
    "# This is currently not working \n",
    "\n",
    "model_checkpoint_dir = \"/share/klab/vkapoor/training_seed_05\"\n",
    "model_checkpoint = \"model.ckpt_epoch89\"\n",
    "#model = models.AlexNetEcoset(model_checkpoint_dir = model_checkpoint_dir, model_checkpoint = model_checkpoint)\n",
    "#model.load_graphdef()"
   ]
  },
  {
   "cell_type": "code",
   "execution_count": 4,
   "metadata": {},
   "outputs": [],
   "source": [
    "# Alexnet with ImageNet weights\n",
    "model = models.AlexNet()\n",
    "model.load_graphdef()"
   ]
  },
  {
   "cell_type": "code",
   "execution_count": 5,
   "metadata": {},
   "outputs": [],
   "source": [
    "layer_name_list = [node.name for node in model.graph_def.node if 'input' not in node.name]\n",
    "\n",
    "# Get the shape of each layer\n",
    "with tf.Graph().as_default() as graph:\n",
    "    # Import the model\n",
    "    tf.import_graph_def(model.graph_def, name='')\n",
    "\n",
    "    # Get the shape of each tensor\n",
    "    layer_shape_dict = {}\n",
    "    with tf.compat.v1.Session() as sess:\n",
    "        for layer_name in layer_name_list:\n",
    "            try:\n",
    "                tensor_shape = sess.graph.get_tensor_by_name(f'{layer_name}:0').shape\n",
    "                \n",
    "                if tensor_shape != ():\n",
    "                  \n",
    "                    if tensor_shape[0] is None:\n",
    "                       \n",
    "                       layer_shape_dict[layer_name] = tensor_shape\n",
    "            except KeyError:\n",
    "                # Handle the case where the tensor is not found\n",
    "                layer_shape_dict[layer_name] = None\n",
    "\n",
    "\n",
    "C = lambda neuron: objectives.channel(*neuron)    \n",
    "def visualize(layer_name, channel):\n",
    "    # Check if the layer exists in the shape dictionary\n",
    "    if layer_name in layer_shape_dict:\n",
    "        # Check if the selected channel is within bounds\n",
    "        print(layer_shape_dict[layer_name])\n",
    "        max_channel = layer_shape_dict[layer_name][-1] - 1\n",
    "        if 0 <= channel <= max_channel:\n",
    "            clear_output(wait=True)\n",
    "            # Render visualization for the selected layer and channel\n",
    "            try:\n",
    "              _ = render.render_vis(model, C((layer_name, channel)))\n",
    "            except Exception:\n",
    "                print('No gradients for this layer')   \n",
    "\n",
    "def visualize_all():\n",
    "    # Check if the layer exists in the shape dictionary\n",
    "    layer_name = current_dropdown_value({'new': layer_dropdown.value})\n",
    "    print(layer_name)\n",
    "    if layer_name in layer_shape_dict:\n",
    "            # Check if the selected channel is within bounds\n",
    "            try:\n",
    "               image_channel = {} \n",
    "               for channel in tqdm(range(channel_slider.max)):    \n",
    "                  images = render.render_vis(model, C((layer_name, channel)), verbose = False)\n",
    "                  image_channel[channel] = images \n",
    "            except Exception:\n",
    "                print('No gradients for this layer')    \n",
    "    return image_channel            \n",
    "                              \n",
    "def plot_images(image_channel):\n",
    "    channels = list(image_channel.keys())\n",
    "    for i in range(0, len(channels), 3):\n",
    "        fig, axs = plt.subplots(1, 3, figsize=(15, 5))  \n",
    "        for j in range(3):\n",
    "            channel_index = i + j\n",
    "            if channel_index < len(channels):\n",
    "                channel = channels[channel_index]\n",
    "                images = image_channel[channel]\n",
    "                try:\n",
    "                    axs[j].imshow(images[0][0,:])  \n",
    "                    axs[j].set_title(f\"Channel {channel}\")\n",
    "                    axs[j].axis('off')\n",
    "                except Exception as e:\n",
    "                    print(f\"Error plotting channel {channel}: {e}\")\n",
    "                    axs[j].axis('off')\n",
    "                    axs[j].text(0.5, 0.5, 'Error', ha='center', va='center')\n",
    "            else:\n",
    "                axs[j].axis('off')  \n",
    "        plt.tight_layout()\n",
    "        plt.show()\n",
    "        \n",
    "# Create dropdown menu for layer selection\n",
    "layer_dropdown = Dropdown(options=list(layer_shape_dict.keys()), description='Layer:')\n",
    "\n",
    "# Create slider for channel selection\n",
    "channel_slider = IntSlider(min=0, max=0, description='Channel:')\n",
    "        \n",
    "        \n",
    "def update_channel_slider(change):\n",
    "    layer_name = change.new\n",
    "    if layer_name in layer_shape_dict:\n",
    "        \n",
    "        max_channel = layer_shape_dict[layer_name][-1] - 1\n",
    "        channel_slider.max = max_channel\n",
    "        \n",
    "        \n",
    "def current_slider_value(*args):\n",
    "    return channel_slider.value\n",
    "\n",
    "\n",
    "def current_dropdown_value(change):\n",
    "    return change['new']\n",
    "\n",
    "\n",
    "channel_slider.observe(current_slider_value, names='value')\n",
    "layer_dropdown.observe(current_dropdown_value, names='value')\n",
    "        \n",
    "\n",
    "       "
   ]
  },
  {
   "cell_type": "markdown",
   "metadata": {},
   "source": [
    "### In the code block below a user can interactively choose the layer to maximally activate the neuron of and then visualize it for a certain channel"
   ]
  },
  {
   "cell_type": "code",
   "execution_count": 6,
   "metadata": {},
   "outputs": [
    {
     "data": {
      "application/vnd.jupyter.widget-view+json": {
       "model_id": "bc4a710d1af34ea89b0105ddcac85a7c",
       "version_major": 2,
       "version_minor": 0
      },
      "text/plain": [
       "interactive(children=(Dropdown(description='Layer:', options=('Placeholder', 'Conv2D', 'BiasAdd', 'Reshape', '…"
      ]
     },
     "metadata": {},
     "output_type": "display_data"
    },
    {
     "data": {
      "text/plain": [
       "<function __main__.visualize(layer_name, channel)>"
      ]
     },
     "execution_count": 6,
     "metadata": {},
     "output_type": "execute_result"
    }
   ],
   "source": [
    "layer_dropdown.observe(update_channel_slider, names='value')\n",
    "\n",
    "# Create an interactive visualization\n",
    "interact(visualize, layer_name=layer_dropdown, channel=channel_slider)     \n"
   ]
  },
  {
   "cell_type": "markdown",
   "metadata": {},
   "source": [
    "In the code below we make a non-interactive plot of all the channels at that layer at once (Memory intensive)"
   ]
  },
  {
   "cell_type": "code",
   "execution_count": 7,
   "metadata": {},
   "outputs": [
    {
     "name": "stdout",
     "output_type": "stream",
     "text": [
      "Conv2D_7\n"
     ]
    },
    {
     "name": "stderr",
     "output_type": "stream",
     "text": [
      " 45%|████▍     | 57/127 [06:45<09:06,  7.81s/it]"
     ]
    }
   ],
   "source": [
    "image_channel = visualize_all()\n",
    " "
   ]
  },
  {
   "cell_type": "markdown",
   "metadata": {},
   "source": [
    "### Visualize neuron activations for all the channels in the layer"
   ]
  },
  {
   "cell_type": "code",
   "execution_count": null,
   "metadata": {},
   "outputs": [],
   "source": [
    "\n",
    "if image_channel:\n",
    "    plot_images(image_channel)   "
   ]
  },
  {
   "cell_type": "code",
   "execution_count": null,
   "metadata": {},
   "outputs": [],
   "source": []
  }
 ],
 "metadata": {
  "kernelspec": {
   "display_name": "lucidenv",
   "language": "python",
   "name": "python3"
  },
  "language_info": {
   "codemirror_mode": {
    "name": "ipython",
    "version": 3
   },
   "file_extension": ".py",
   "mimetype": "text/x-python",
   "name": "python",
   "nbconvert_exporter": "python",
   "pygments_lexer": "ipython3",
   "version": "3.12.3"
  }
 },
 "nbformat": 4,
 "nbformat_minor": 2
}
